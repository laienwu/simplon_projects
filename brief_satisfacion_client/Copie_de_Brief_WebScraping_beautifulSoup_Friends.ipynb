{
 "cells": [
  {
   "cell_type": "markdown",
   "id": "b26ccb9e",
   "metadata": {
    "id": "b26ccb9e"
   },
   "source": [
    "## Le WebScraping en étapes:\n",
    "\n",
    "Pour les bibliothèques nécessaires pour les exemples ci-dessous, vous pouvez accéder à votre ligne de commande et les installer avec Conda install (si vous utilisez la distribution Anaconda) ou pip install pour les autres distributions Python.\n",
    "\n",
    "1.) **Requests** : Ce module est utilisé pour visiter une URL et obtenir le contenu d'une page web.La bibliothèque \"Requests\" en Python est un outil populaire utilisé pour simplifier les opérations liées aux requêtes HTTP. Elle offre une interface simple et élégante pour envoyer des requêtes HTTP, gérer les cookies, les en-têtes, les sessions, et gérer d'autres aspects liés aux communications web. \"Requests\" permet aux développeurs d'interagir facilement avec des API, de récupérer des données à partir de sites web, et d'effectuer diverses opérations liées aux protocoles HTTP. Grâce à sa simplicité d'utilisation et à ses fonctionnalités puissantes, \"Requests\" est largement utilisée dans le domaine du web scraping, de l'automatisation web, et de l'accès aux services web.\n",
    "\n",
    "Vous pouvez le télécharger avec pip install requests ou conda install requests (pour la distribution Anaconda de Python) dans votre invite de commande.\n",
    "\n",
    "2.) **BeautifulSoup** :une bibliothèque Python qui facilite l'extraction d'informations à partir de documents HTML et XML. Elle offre des méthodes souples pour parcourir et rechercher des éléments dans le code source HTML/XML, facilitant ainsi l'analyse et la manipulation de données web..\n",
    "\n",
    "Vous pouvez le télécharger avec pip install beautifulsoup4 ou conda install beautifulsoup4 (pour la distribution Anaconda de Python) dans votre invite de commande.\n",
    "\n",
    "3.) **parser HTML** :Beautiful Soup prend en charge différents parseurs (analysateurs) pour analyser le code source HTML ou XML. Deux des parseurs populaires utilisés avec Beautiful Soup sont \"lxml\" et \"html.parser\"...\n",
    "\n",
    "* lxml : \"lxml\" est un parseur externe qui est construit sur les bibliothèques C libxml2 et libxslt. Il est rapide, efficace et capable de gérer des documents HTML et XML complexes. \"lxml\" est souvent recommandé pour sa rapidité, en particulier lors du traitement de grandes quantités de données.\n",
    "\n",
    "\n",
    "* html.parser : \"html.parser\" est un parseur natif inclus dans la bibliothèque standard de Python. Il est plus lent que \"lxml\" mais peut être suffisant pour des tâches moins gourmandes en ressources. Aucune installation supplémentaire n'est nécessaire, car il fait partie de la bibliothèque standard.\n",
    "\n",
    "\n",
    "* html5lib : Il s'agit d'un parseur externe qui implémente l'algorithme de l'HTML Living Standard. Il est précis et capable de gérer des documents HTML mal formés, mais il est généralement plus lent que les autres parseurs."
   ]
  },
  {
   "cell_type": "markdown",
   "id": "b5f68f01",
   "metadata": {
    "id": "b5f68f01"
   },
   "source": [
    "## Application:\n",
    "\n",
    "On considère le site: www.imdb.com"
   ]
  },
  {
   "cell_type": "markdown",
   "id": "8801e3ba",
   "metadata": {
    "id": "8801e3ba"
   },
   "source": [
    "**1- Analyse du Site Web :**\n",
    "\n",
    "On considère le site imdb et cette URL : https://www.imdb.com/title/tt0108778/episodes/ .inspectez la structure HTML pour comprendre comment les informations de la série ,ses épisodes et les différentes saisons sont présentées.\n",
    "Identifiez les balises HTML, les classes et les IDs pertinents qui contiennent les données que vous souhaitez extraire.\n",
    "\n",
    "**2-Extraction des Informations de Base :**\n",
    "\n",
    "* 2.1- les épisodes de la saison 1:\n",
    "\n",
    "Utilisez Beautiful Soup pour envoyer une requête HTTP à la page https://www.imdb.com/title/tt0108778/episodes/  récupérez le contenu HTML.\n",
    "Récupérez la liste des episodes de la 1ere saison.\n",
    "Récupérer pour chaque épisode , son numéro, son nom, la date de sortie, la note et la description\n",
    "\n",
    "* 2.2-Récupérer toutes les saisons  \n",
    "\n",
    "Etendre votre travail précédent pour extraire les les épisodes des 10 saisons de la série\n",
    "\n"
   ]
  },
  {
   "cell_type": "code",
   "id": "957ca859",
   "metadata": {
    "id": "957ca859",
    "ExecuteTime": {
     "end_time": "2024-07-10T13:48:23.028075Z",
     "start_time": "2024-07-10T13:48:16.937439Z"
    }
   },
   "source": [
    "import requests\n",
    "from bs4 import BeautifulSoup\n",
    "from typing import Optional\n",
    "import pandas as pd"
   ],
   "outputs": [],
   "execution_count": 76
  },
  {
   "cell_type": "code",
   "id": "ce39b924",
   "metadata": {
    "id": "ce39b924",
    "outputId": "a6ff72df-c6e3-4533-eee8-e0b6a8b24950",
    "colab": {
     "base_uri": "https://localhost:8080/"
    },
    "ExecuteTime": {
     "end_time": "2024-07-10T12:57:23.948166Z",
     "start_time": "2024-07-10T12:57:23.141706Z"
    }
   },
   "source": [
    "# L'url du site à scrapper\n",
    "url = 'https://www.imdb.com/title/tt0108778/episodes/'\n",
    "\n",
    "# ma requete HTTP avec un \"GET\" au serveur du site identifier dans l'url\n",
    "headers = {\n",
    "    'User-Agent': 'Mozilla/5.0 (Windows NT 10.0; Win64; x64) AppleWebKit/537.36 (KHTML, like Gecko) Chrome/58.0.3029.110 Safari/537.3,content-Type=application/json'}\n",
    "response = requests.get(url, headers=headers)\n",
    "\n",
    "# J'affiche l'url ainsi que le retour du serveur\n",
    "print(url, response.status_code)\n",
    "\n"
   ],
   "outputs": [
    {
     "name": "stdout",
     "output_type": "stream",
     "text": [
      "https://www.imdb.com/title/tt0108778/episodes/ 200\n"
     ]
    }
   ],
   "execution_count": 18
  },
  {
   "cell_type": "code",
   "id": "beb7a2be",
   "metadata": {
    "id": "beb7a2be",
    "ExecuteTime": {
     "end_time": "2024-07-10T12:39:32.395022Z",
     "start_time": "2024-07-10T12:39:32.300805Z"
    }
   },
   "source": [
    "# Je demande à beautifulSoup de conserver dans une variable \"soup\" la page web à scrapper (un script html)\n",
    "soup = BeautifulSoup(response.content, 'html')\n",
    "# soup"
   ],
   "outputs": [],
   "execution_count": 3
  },
  {
   "cell_type": "code",
   "id": "a30fde0b",
   "metadata": {
    "id": "a30fde0b",
    "outputId": "08c7107c-1366-4525-f29b-d4eaa402e0d2",
    "colab": {
     "base_uri": "https://localhost:8080/",
     "height": 35
    },
    "ExecuteTime": {
     "end_time": "2024-07-10T12:39:33.705253Z",
     "start_time": "2024-07-10T12:39:33.689909Z"
    }
   },
   "source": [
    "soup.select_one('h2').text"
   ],
   "outputs": [
    {
     "data": {
      "text/plain": [
       "'Friends'"
      ]
     },
     "execution_count": 4,
     "metadata": {},
     "output_type": "execute_result"
    }
   ],
   "execution_count": 4
  },
  {
   "cell_type": "code",
   "id": "1e651cdf",
   "metadata": {
    "id": "1e651cdf",
    "colab": {
     "base_uri": "https://localhost:8080/"
    },
    "outputId": "317de131-d7cb-4caf-9651-2b7cdbf8e578",
    "ExecuteTime": {
     "end_time": "2024-07-10T14:01:14.186858Z",
     "start_time": "2024-07-10T14:01:14.174659Z"
    }
   },
   "source": [
    "titres = soup.find_all('div', {'class': 'sc-ccd6e31b-4 eMYVLm'})\n",
    "# titres.find_all('div', {'class': 'sc-ccd6e31b-5 cXcoHr'})\n",
    "titres[0].find('div', {'class': 'ipc-title__text'})\n",
    "# titres[0].find('span', {'class': 'ipc-rating-star ipc-rating-star--base ipc-rating-star--imdb ratingGroup--imdb-rating'}).text"
   ],
   "outputs": [
    {
     "data": {
      "text/plain": [
       "<div class=\"ipc-title__text\">S1.E1 ∙ The One Where Monica Gets a Roommate</div>"
      ]
     },
     "execution_count": 125,
     "metadata": {},
     "output_type": "execute_result"
    }
   ],
   "execution_count": 125
  },
  {
   "cell_type": "code",
   "source": [
    "def extract_info(url: str, header:Optional[dict]=None) -> list[str]:\n",
    "    headers = {\n",
    "        'User-Agent': 'Mozilla/5.0 (Windows NT 10.0; Win64; x64) AppleWebKit/537.36 (KHTML, like Gecko) Chrome/58.0.3029.110 Safari/537.3'}\n",
    "    response = requests.get(url, headers=headers)\n",
    "    results = {}\n",
    "    if response.status_code != 200:\n",
    "        print(response.status_code)\n",
    "        exit(1)\n",
    "    soup = BeautifulSoup(response.content, 'html')\n",
    "    episodes = soup.find_all('div', {'class': 'sc-ccd6e31b-4 eMYVLm'})\n",
    "    for episode in episodes:\n",
    "        try:\n",
    "            infos = episode.find('div', {'class': 'ipc-title__text'}).text\n",
    "            number,title=infos.split('∙')\n",
    "            date= episode.find('span', {'class': 'sc-ccd6e31b-10 fVspdm'}).text\n",
    "            note=episode.find('span', {'class': 'ipc-rating-star ipc-rating-star--base ipc-rating-star--imdb ratingGroup--imdb-rating'}).text\n",
    "            results[number]={'title':title.strip(), 'date':date.strip(), 'rating':note.strip()}\n",
    "        except Exception as e:\n",
    "            pass\n",
    "    return results"
   ],
   "metadata": {
    "colab": {
     "base_uri": "https://localhost:8080/"
    },
    "id": "PdFZWyZcUr7q",
    "outputId": "a2dd811b-437a-4f51-c885-ae3419495e16",
    "ExecuteTime": {
     "end_time": "2024-07-10T14:15:50.914820Z",
     "start_time": "2024-07-10T14:15:50.907419Z"
    }
   },
   "id": "PdFZWyZcUr7q",
   "outputs": [],
   "execution_count": 147
  },
  {
   "metadata": {
    "ExecuteTime": {
     "end_time": "2024-07-10T14:15:53.712059Z",
     "start_time": "2024-07-10T14:15:52.334762Z"
    }
   },
   "cell_type": "code",
   "source": [
    "url='https://www.imdb.com/title/tt0108778/episodes/?season=1'\n",
    "extract_info(url)"
   ],
   "id": "638112d3a7c3a759",
   "outputs": [
    {
     "data": {
      "text/plain": [
       "{'S1.E1 ': {'title': 'The One Where Monica Gets a Roommate',\n",
       "  'date': 'Mon, Apr 15, 1996',\n",
       "  'rating': '8.1/10\\xa0(10K)'},\n",
       " 'S1.E2 ': {'title': 'The One with the Sonogram at the End',\n",
       "  'date': 'Wed, Sep 28, 1994',\n",
       "  'rating': '7.9/10\\xa0(8K)'},\n",
       " 'S1.E3 ': {'title': 'The One with the Thumb',\n",
       "  'date': 'Wed, Oct 5, 1994',\n",
       "  'rating': '8.0/10\\xa0(7.5K)'},\n",
       " 'S1.E4 ': {'title': 'The One with George Stephanopoulos',\n",
       "  'date': 'Wed, Oct 12, 1994',\n",
       "  'rating': '7.9/10\\xa0(7.3K)'},\n",
       " 'S1.E5 ': {'title': 'The One with the East German Laundry Detergent',\n",
       "  'date': 'Wed, Oct 19, 1994',\n",
       "  'rating': '8.3/10\\xa0(7.3K)'},\n",
       " 'S1.E6 ': {'title': 'The One with the Butt',\n",
       "  'date': 'Wed, Oct 26, 1994',\n",
       "  'rating': '8.0/10\\xa0(6.9K)'},\n",
       " 'S1.E7 ': {'title': 'The One with the Blackout',\n",
       "  'date': 'Wed, Nov 2, 1994',\n",
       "  'rating': '8.9/10\\xa0(8.7K)'},\n",
       " 'S1.E8 ': {'title': 'The One Where Nana Dies Twice',\n",
       "  'date': 'Wed, Nov 9, 1994',\n",
       "  'rating': '7.9/10\\xa0(6.8K)'},\n",
       " 'S1.E9 ': {'title': 'The One Where Underdog Gets Away',\n",
       "  'date': 'Wed, Nov 16, 1994',\n",
       "  'rating': '8.1/10\\xa0(6.6K)'},\n",
       " 'S1.E10 ': {'title': 'The One with the Monkey',\n",
       "  'date': 'Wed, Dec 14, 1994',\n",
       "  'rating': '7.9/10\\xa0(6.6K)'},\n",
       " 'S1.E11 ': {'title': 'The One with Mrs. Bing',\n",
       "  'date': 'Wed, Jan 4, 1995',\n",
       "  'rating': '8.0/10\\xa0(6.5K)'},\n",
       " 'S1.E12 ': {'title': 'The One with the Dozen Lasagnas',\n",
       "  'date': 'Wed, Jan 11, 1995',\n",
       "  'rating': '8.0/10\\xa0(6.4K)'},\n",
       " 'S1.E13 ': {'title': 'The One with the Boobies',\n",
       "  'date': 'Wed, Jan 18, 1995',\n",
       "  'rating': '8.5/10\\xa0(6.8K)'},\n",
       " 'S1.E14 ': {'title': 'The One with the Candy Hearts',\n",
       "  'date': 'Wed, Feb 8, 1995',\n",
       "  'rating': '8.1/10\\xa0(6.3K)'},\n",
       " 'S1.E15 ': {'title': 'The One with the Stoned Guy',\n",
       "  'date': 'Wed, Feb 15, 1995',\n",
       "  'rating': '8.1/10\\xa0(6.3K)'},\n",
       " 'S1.E16 ': {'title': 'The One with Two Parts: Part 1',\n",
       "  'date': 'Wed, Feb 22, 1995',\n",
       "  'rating': '8.0/10\\xa0(6.2K)'},\n",
       " 'S1.E17 ': {'title': 'The One with Two Parts: Part 2',\n",
       "  'date': 'Wed, Feb 22, 1995',\n",
       "  'rating': '8.3/10\\xa0(6.4K)'},\n",
       " 'S1.E18 ': {'title': 'The One with All the Poker',\n",
       "  'date': 'Wed, Mar 1, 1995',\n",
       "  'rating': '8.7/10\\xa0(7K)'},\n",
       " 'S1.E19 ': {'title': 'The One Where the Monkey Gets Away',\n",
       "  'date': 'Wed, Mar 8, 1995',\n",
       "  'rating': '7.9/10\\xa0(6.1K)'},\n",
       " 'S1.E20 ': {'title': 'The One with the Evil Orthodontist',\n",
       "  'date': 'Wed, Apr 5, 1995',\n",
       "  'rating': '7.7/10\\xa0(6.1K)'},\n",
       " 'S1.E21 ': {'title': 'The One with the Fake Monica',\n",
       "  'date': 'Wed, Apr 26, 1995',\n",
       "  'rating': '7.6/10\\xa0(6.1K)'},\n",
       " 'S1.E22 ': {'title': 'The One with the Ick Factor',\n",
       "  'date': 'Wed, May 3, 1995',\n",
       "  'rating': '8.1/10\\xa0(6.1K)'},\n",
       " 'S1.E23 ': {'title': 'The One with the Birth',\n",
       "  'date': 'Wed, May 10, 1995',\n",
       "  'rating': '8.6/10\\xa0(6.4K)'},\n",
       " 'S1.E24 ': {'title': 'The One Where Rachel Finds Out',\n",
       "  'date': 'Wed, May 17, 1995',\n",
       "  'rating': '8.7/10\\xa0(6.8K)'}}"
      ]
     },
     "execution_count": 148,
     "metadata": {},
     "output_type": "execute_result"
    }
   ],
   "execution_count": 148
  },
  {
   "cell_type": "code",
   "id": "2d181d06",
   "metadata": {
    "id": "2d181d06",
    "ExecuteTime": {
     "end_time": "2024-07-10T16:43:18.675250Z",
     "start_time": "2024-07-10T16:43:02.680176Z"
    }
   },
   "source": [
    "seasons = {}\n",
    "headers = {\n",
    "    'User-Agent': 'Mozilla/5.0 (Windows NT 10.0; Win64; x64) AppleWebKit/537.36 (KHTML, like Gecko) Chrome/58.0.3029.110 Safari/537.3'}\n",
    "\n",
    "for id_season in range(1, 11):\n",
    "    url = f'https://www.imdb.com/title/tt0108778/episodes/?season={id_season}'\n",
    "    # saisons.append(extract_info(url,headers))\n",
    "    seasons.update(extract_info(url, headers))"
   ],
   "outputs": [],
   "execution_count": 165
  },
  {
   "metadata": {
    "ExecuteTime": {
     "end_time": "2024-07-10T16:44:27.909224Z",
     "start_time": "2024-07-10T16:44:27.894953Z"
    }
   },
   "cell_type": "code",
   "source": "pd.DataFrame.from_dict(seasons,orient='index')",
   "id": "6da71d022c479988",
   "outputs": [
    {
     "data": {
      "text/plain": [
       "                                                   title               date  \\\n",
       "S1.E1               The One Where Monica Gets a Roommate  Mon, Apr 15, 1996   \n",
       "S1.E2               The One with the Sonogram at the End  Wed, Sep 28, 1994   \n",
       "S1.E3                             The One with the Thumb   Wed, Oct 5, 1994   \n",
       "S1.E4                 The One with George Stephanopoulos  Wed, Oct 12, 1994   \n",
       "S1.E5     The One with the East German Laundry Detergent  Wed, Oct 19, 1994   \n",
       "...                                                  ...                ...   \n",
       "S10.E13                 The One Where Joey Speaks French  Wed, Feb 18, 2004   \n",
       "S10.E14                   The One with Princess Consuela  Wed, Feb 25, 2004   \n",
       "S10.E15                       The One Where Estelle Dies  Wed, Apr 21, 2004   \n",
       "S10.E16           The One with Rachel's Going Away Party  Wed, Apr 28, 2004   \n",
       "S10.E17                                     The Last One   Wed, May 5, 2004   \n",
       "\n",
       "                 rating  \n",
       "S1.E1      8.1/10 (10K)  \n",
       "S1.E2       7.9/10 (8K)  \n",
       "S1.E3     8.0/10 (7.5K)  \n",
       "S1.E4     7.9/10 (7.3K)  \n",
       "S1.E5     8.3/10 (7.3K)  \n",
       "...                 ...  \n",
       "S10.E13   8.3/10 (4.9K)  \n",
       "S10.E14   8.4/10 (4.8K)  \n",
       "S10.E15   8.4/10 (4.5K)  \n",
       "S10.E16   8.8/10 (5.2K)  \n",
       "S10.E17    9.6/10 (17K)  \n",
       "\n",
       "[234 rows x 3 columns]"
      ],
      "text/html": [
       "<div>\n",
       "<style scoped>\n",
       "    .dataframe tbody tr th:only-of-type {\n",
       "        vertical-align: middle;\n",
       "    }\n",
       "\n",
       "    .dataframe tbody tr th {\n",
       "        vertical-align: top;\n",
       "    }\n",
       "\n",
       "    .dataframe thead th {\n",
       "        text-align: right;\n",
       "    }\n",
       "</style>\n",
       "<table border=\"1\" class=\"dataframe\">\n",
       "  <thead>\n",
       "    <tr style=\"text-align: right;\">\n",
       "      <th></th>\n",
       "      <th>title</th>\n",
       "      <th>date</th>\n",
       "      <th>rating</th>\n",
       "    </tr>\n",
       "  </thead>\n",
       "  <tbody>\n",
       "    <tr>\n",
       "      <th>S1.E1</th>\n",
       "      <td>The One Where Monica Gets a Roommate</td>\n",
       "      <td>Mon, Apr 15, 1996</td>\n",
       "      <td>8.1/10 (10K)</td>\n",
       "    </tr>\n",
       "    <tr>\n",
       "      <th>S1.E2</th>\n",
       "      <td>The One with the Sonogram at the End</td>\n",
       "      <td>Wed, Sep 28, 1994</td>\n",
       "      <td>7.9/10 (8K)</td>\n",
       "    </tr>\n",
       "    <tr>\n",
       "      <th>S1.E3</th>\n",
       "      <td>The One with the Thumb</td>\n",
       "      <td>Wed, Oct 5, 1994</td>\n",
       "      <td>8.0/10 (7.5K)</td>\n",
       "    </tr>\n",
       "    <tr>\n",
       "      <th>S1.E4</th>\n",
       "      <td>The One with George Stephanopoulos</td>\n",
       "      <td>Wed, Oct 12, 1994</td>\n",
       "      <td>7.9/10 (7.3K)</td>\n",
       "    </tr>\n",
       "    <tr>\n",
       "      <th>S1.E5</th>\n",
       "      <td>The One with the East German Laundry Detergent</td>\n",
       "      <td>Wed, Oct 19, 1994</td>\n",
       "      <td>8.3/10 (7.3K)</td>\n",
       "    </tr>\n",
       "    <tr>\n",
       "      <th>...</th>\n",
       "      <td>...</td>\n",
       "      <td>...</td>\n",
       "      <td>...</td>\n",
       "    </tr>\n",
       "    <tr>\n",
       "      <th>S10.E13</th>\n",
       "      <td>The One Where Joey Speaks French</td>\n",
       "      <td>Wed, Feb 18, 2004</td>\n",
       "      <td>8.3/10 (4.9K)</td>\n",
       "    </tr>\n",
       "    <tr>\n",
       "      <th>S10.E14</th>\n",
       "      <td>The One with Princess Consuela</td>\n",
       "      <td>Wed, Feb 25, 2004</td>\n",
       "      <td>8.4/10 (4.8K)</td>\n",
       "    </tr>\n",
       "    <tr>\n",
       "      <th>S10.E15</th>\n",
       "      <td>The One Where Estelle Dies</td>\n",
       "      <td>Wed, Apr 21, 2004</td>\n",
       "      <td>8.4/10 (4.5K)</td>\n",
       "    </tr>\n",
       "    <tr>\n",
       "      <th>S10.E16</th>\n",
       "      <td>The One with Rachel's Going Away Party</td>\n",
       "      <td>Wed, Apr 28, 2004</td>\n",
       "      <td>8.8/10 (5.2K)</td>\n",
       "    </tr>\n",
       "    <tr>\n",
       "      <th>S10.E17</th>\n",
       "      <td>The Last One</td>\n",
       "      <td>Wed, May 5, 2004</td>\n",
       "      <td>9.6/10 (17K)</td>\n",
       "    </tr>\n",
       "  </tbody>\n",
       "</table>\n",
       "<p>234 rows × 3 columns</p>\n",
       "</div>"
      ]
     },
     "execution_count": 170,
     "metadata": {},
     "output_type": "execute_result"
    }
   ],
   "execution_count": 170
  },
  {
   "metadata": {
    "ExecuteTime": {
     "end_time": "2024-07-10T14:27:40.299781Z",
     "start_time": "2024-07-10T14:27:40.287110Z"
    }
   },
   "cell_type": "code",
   "source": [
    "#depleted\n",
    "# rows = []\n",
    "# for season in seasons:\n",
    "#     for episode, details in season.items():\n",
    "#         row = [episode.strip(), details['title'], details['date'], details['rating']]\n",
    "#         rows.append(row)\n",
    "\n",
    "# Define the columns\n",
    "# columns = ['episode', 'title', 'date', 'rating']\n",
    "# \n",
    "# # Create the DataFrame\n",
    "# df = pd.DataFrame(rows, columns=columns)\n",
    "# df"
   ],
   "id": "4f5277d5c6a10d73",
   "outputs": [
    {
     "data": {
      "text/plain": [
       "     episode                                           title  \\\n",
       "0      S1.E1            The One Where Monica Gets a Roommate   \n",
       "1      S1.E2            The One with the Sonogram at the End   \n",
       "2      S1.E3                          The One with the Thumb   \n",
       "3      S1.E4              The One with George Stephanopoulos   \n",
       "4      S1.E5  The One with the East German Laundry Detergent   \n",
       "..       ...                                             ...   \n",
       "229  S10.E13                The One Where Joey Speaks French   \n",
       "230  S10.E14                  The One with Princess Consuela   \n",
       "231  S10.E15                      The One Where Estelle Dies   \n",
       "232  S10.E16          The One with Rachel's Going Away Party   \n",
       "233  S10.E17                                    The Last One   \n",
       "\n",
       "                  date         rating  \n",
       "0    Mon, Apr 15, 1996   8.1/10 (10K)  \n",
       "1    Wed, Sep 28, 1994    7.9/10 (8K)  \n",
       "2     Wed, Oct 5, 1994  8.0/10 (7.5K)  \n",
       "3    Wed, Oct 12, 1994  7.9/10 (7.3K)  \n",
       "4    Wed, Oct 19, 1994  8.3/10 (7.3K)  \n",
       "..                 ...            ...  \n",
       "229  Wed, Feb 18, 2004  8.3/10 (4.9K)  \n",
       "230  Wed, Feb 25, 2004  8.4/10 (4.8K)  \n",
       "231  Wed, Apr 21, 2004  8.4/10 (4.5K)  \n",
       "232  Wed, Apr 28, 2004  8.8/10 (5.2K)  \n",
       "233   Wed, May 5, 2004   9.6/10 (17K)  \n",
       "\n",
       "[234 rows x 4 columns]"
      ],
      "text/html": [
       "<div>\n",
       "<style scoped>\n",
       "    .dataframe tbody tr th:only-of-type {\n",
       "        vertical-align: middle;\n",
       "    }\n",
       "\n",
       "    .dataframe tbody tr th {\n",
       "        vertical-align: top;\n",
       "    }\n",
       "\n",
       "    .dataframe thead th {\n",
       "        text-align: right;\n",
       "    }\n",
       "</style>\n",
       "<table border=\"1\" class=\"dataframe\">\n",
       "  <thead>\n",
       "    <tr style=\"text-align: right;\">\n",
       "      <th></th>\n",
       "      <th>episode</th>\n",
       "      <th>title</th>\n",
       "      <th>date</th>\n",
       "      <th>rating</th>\n",
       "    </tr>\n",
       "  </thead>\n",
       "  <tbody>\n",
       "    <tr>\n",
       "      <th>0</th>\n",
       "      <td>S1.E1</td>\n",
       "      <td>The One Where Monica Gets a Roommate</td>\n",
       "      <td>Mon, Apr 15, 1996</td>\n",
       "      <td>8.1/10 (10K)</td>\n",
       "    </tr>\n",
       "    <tr>\n",
       "      <th>1</th>\n",
       "      <td>S1.E2</td>\n",
       "      <td>The One with the Sonogram at the End</td>\n",
       "      <td>Wed, Sep 28, 1994</td>\n",
       "      <td>7.9/10 (8K)</td>\n",
       "    </tr>\n",
       "    <tr>\n",
       "      <th>2</th>\n",
       "      <td>S1.E3</td>\n",
       "      <td>The One with the Thumb</td>\n",
       "      <td>Wed, Oct 5, 1994</td>\n",
       "      <td>8.0/10 (7.5K)</td>\n",
       "    </tr>\n",
       "    <tr>\n",
       "      <th>3</th>\n",
       "      <td>S1.E4</td>\n",
       "      <td>The One with George Stephanopoulos</td>\n",
       "      <td>Wed, Oct 12, 1994</td>\n",
       "      <td>7.9/10 (7.3K)</td>\n",
       "    </tr>\n",
       "    <tr>\n",
       "      <th>4</th>\n",
       "      <td>S1.E5</td>\n",
       "      <td>The One with the East German Laundry Detergent</td>\n",
       "      <td>Wed, Oct 19, 1994</td>\n",
       "      <td>8.3/10 (7.3K)</td>\n",
       "    </tr>\n",
       "    <tr>\n",
       "      <th>...</th>\n",
       "      <td>...</td>\n",
       "      <td>...</td>\n",
       "      <td>...</td>\n",
       "      <td>...</td>\n",
       "    </tr>\n",
       "    <tr>\n",
       "      <th>229</th>\n",
       "      <td>S10.E13</td>\n",
       "      <td>The One Where Joey Speaks French</td>\n",
       "      <td>Wed, Feb 18, 2004</td>\n",
       "      <td>8.3/10 (4.9K)</td>\n",
       "    </tr>\n",
       "    <tr>\n",
       "      <th>230</th>\n",
       "      <td>S10.E14</td>\n",
       "      <td>The One with Princess Consuela</td>\n",
       "      <td>Wed, Feb 25, 2004</td>\n",
       "      <td>8.4/10 (4.8K)</td>\n",
       "    </tr>\n",
       "    <tr>\n",
       "      <th>231</th>\n",
       "      <td>S10.E15</td>\n",
       "      <td>The One Where Estelle Dies</td>\n",
       "      <td>Wed, Apr 21, 2004</td>\n",
       "      <td>8.4/10 (4.5K)</td>\n",
       "    </tr>\n",
       "    <tr>\n",
       "      <th>232</th>\n",
       "      <td>S10.E16</td>\n",
       "      <td>The One with Rachel's Going Away Party</td>\n",
       "      <td>Wed, Apr 28, 2004</td>\n",
       "      <td>8.8/10 (5.2K)</td>\n",
       "    </tr>\n",
       "    <tr>\n",
       "      <th>233</th>\n",
       "      <td>S10.E17</td>\n",
       "      <td>The Last One</td>\n",
       "      <td>Wed, May 5, 2004</td>\n",
       "      <td>9.6/10 (17K)</td>\n",
       "    </tr>\n",
       "  </tbody>\n",
       "</table>\n",
       "<p>234 rows × 4 columns</p>\n",
       "</div>"
      ]
     },
     "execution_count": 163,
     "metadata": {},
     "output_type": "execute_result"
    }
   ],
   "execution_count": 163
  },
  {
   "cell_type": "code",
   "id": "94fba4a0",
   "metadata": {
    "id": "94fba4a0",
    "colab": {
     "base_uri": "https://localhost:8080/",
     "height": 949
    },
    "collapsed": true,
    "outputId": "571131e3-7d60-42ce-ae8e-4da03161f9b2",
    "ExecuteTime": {
     "end_time": "2024-07-10T14:32:37.438283Z",
     "start_time": "2024-07-10T14:32:37.203486Z"
    }
   },
   "source": [
    "import sys\n",
    "from selenium import webdriver\n",
    "from selenium.webdriver.chrome.service import Service\n",
    "\n",
    "sys.path.insert(0, '/usr/lib/chromium-browser/chromedriver')\n",
    "service = Service(executable_path=r'/usr/bin/chromedriver')\n",
    "options = webdriver.ChromeOptions()\n",
    "options.add_argument('--headless')\n",
    "options.add_argument('--no-sandbox')\n",
    "options.add_argument('--disable-dev-shm-usage')\n",
    "wd = webdriver.Chrome(service=service, options=options)\n",
    "wd.get(\"https://stackoverflow.com/questions/51046454/how-can-we-use-selenium-webdriver-in-colab-research-google-com\")\n",
    "wd.title"
   ],
   "outputs": [
    {
     "ename": "NoSuchDriverException",
     "evalue": "Message: Unable to obtain driver for chrome; For documentation on this error, please visit: https://www.selenium.dev/documentation/webdriver/troubleshooting/errors/driver_location\n",
     "output_type": "error",
     "traceback": [
      "\u001B[1;31m---------------------------------------------------------------------------\u001B[0m",
      "\u001B[1;31mValueError\u001B[0m                                Traceback (most recent call last)",
      "File \u001B[1;32m~\\AppData\\Local\\pypoetry\\Cache\\virtualenvs\\simplon-studies-U4Vljfao-py3.12\\Lib\\site-packages\\selenium\\webdriver\\common\\driver_finder.py:64\u001B[0m, in \u001B[0;36mDriverFinder._binary_paths\u001B[1;34m(self)\u001B[0m\n\u001B[0;32m     63\u001B[0m \u001B[38;5;28;01mif\u001B[39;00m \u001B[38;5;129;01mnot\u001B[39;00m Path(path)\u001B[38;5;241m.\u001B[39mis_file():\n\u001B[1;32m---> 64\u001B[0m     \u001B[38;5;28;01mraise\u001B[39;00m \u001B[38;5;167;01mValueError\u001B[39;00m(\u001B[38;5;124mf\u001B[39m\u001B[38;5;124m\"\u001B[39m\u001B[38;5;124mThe path is not a valid file: \u001B[39m\u001B[38;5;132;01m{\u001B[39;00mpath\u001B[38;5;132;01m}\u001B[39;00m\u001B[38;5;124m\"\u001B[39m)\n\u001B[0;32m     65\u001B[0m \u001B[38;5;28mself\u001B[39m\u001B[38;5;241m.\u001B[39m_paths[\u001B[38;5;124m\"\u001B[39m\u001B[38;5;124mdriver_path\u001B[39m\u001B[38;5;124m\"\u001B[39m] \u001B[38;5;241m=\u001B[39m path\n",
      "\u001B[1;31mValueError\u001B[0m: The path is not a valid file: /usr/bin/chromedriver",
      "\nThe above exception was the direct cause of the following exception:\n",
      "\u001B[1;31mNoSuchDriverException\u001B[0m                     Traceback (most recent call last)",
      "Cell \u001B[1;32mIn[164], line 11\u001B[0m\n\u001B[0;32m      9\u001B[0m options\u001B[38;5;241m.\u001B[39madd_argument(\u001B[38;5;124m'\u001B[39m\u001B[38;5;124m--no-sandbox\u001B[39m\u001B[38;5;124m'\u001B[39m)\n\u001B[0;32m     10\u001B[0m options\u001B[38;5;241m.\u001B[39madd_argument(\u001B[38;5;124m'\u001B[39m\u001B[38;5;124m--disable-dev-shm-usage\u001B[39m\u001B[38;5;124m'\u001B[39m)\n\u001B[1;32m---> 11\u001B[0m wd \u001B[38;5;241m=\u001B[39m \u001B[43mwebdriver\u001B[49m\u001B[38;5;241;43m.\u001B[39;49m\u001B[43mChrome\u001B[49m\u001B[43m(\u001B[49m\u001B[43mservice\u001B[49m\u001B[38;5;241;43m=\u001B[39;49m\u001B[43mservice\u001B[49m\u001B[43m,\u001B[49m\u001B[43m \u001B[49m\u001B[43moptions\u001B[49m\u001B[38;5;241;43m=\u001B[39;49m\u001B[43moptions\u001B[49m\u001B[43m)\u001B[49m\n\u001B[0;32m     12\u001B[0m wd\u001B[38;5;241m.\u001B[39mget(\u001B[38;5;124m\"\u001B[39m\u001B[38;5;124mhttps://stackoverflow.com/questions/51046454/how-can-we-use-selenium-webdriver-in-colab-research-google-com\u001B[39m\u001B[38;5;124m\"\u001B[39m)\n\u001B[0;32m     13\u001B[0m wd\u001B[38;5;241m.\u001B[39mtitle\n",
      "File \u001B[1;32m~\\AppData\\Local\\pypoetry\\Cache\\virtualenvs\\simplon-studies-U4Vljfao-py3.12\\Lib\\site-packages\\selenium\\webdriver\\chrome\\webdriver.py:45\u001B[0m, in \u001B[0;36mWebDriver.__init__\u001B[1;34m(self, options, service, keep_alive)\u001B[0m\n\u001B[0;32m     42\u001B[0m service \u001B[38;5;241m=\u001B[39m service \u001B[38;5;28;01mif\u001B[39;00m service \u001B[38;5;28;01melse\u001B[39;00m Service()\n\u001B[0;32m     43\u001B[0m options \u001B[38;5;241m=\u001B[39m options \u001B[38;5;28;01mif\u001B[39;00m options \u001B[38;5;28;01melse\u001B[39;00m Options()\n\u001B[1;32m---> 45\u001B[0m \u001B[38;5;28;43msuper\u001B[39;49m\u001B[43m(\u001B[49m\u001B[43m)\u001B[49m\u001B[38;5;241;43m.\u001B[39;49m\u001B[38;5;21;43m__init__\u001B[39;49m\u001B[43m(\u001B[49m\n\u001B[0;32m     46\u001B[0m \u001B[43m    \u001B[49m\u001B[43mbrowser_name\u001B[49m\u001B[38;5;241;43m=\u001B[39;49m\u001B[43mDesiredCapabilities\u001B[49m\u001B[38;5;241;43m.\u001B[39;49m\u001B[43mCHROME\u001B[49m\u001B[43m[\u001B[49m\u001B[38;5;124;43m\"\u001B[39;49m\u001B[38;5;124;43mbrowserName\u001B[39;49m\u001B[38;5;124;43m\"\u001B[39;49m\u001B[43m]\u001B[49m\u001B[43m,\u001B[49m\n\u001B[0;32m     47\u001B[0m \u001B[43m    \u001B[49m\u001B[43mvendor_prefix\u001B[49m\u001B[38;5;241;43m=\u001B[39;49m\u001B[38;5;124;43m\"\u001B[39;49m\u001B[38;5;124;43mgoog\u001B[39;49m\u001B[38;5;124;43m\"\u001B[39;49m\u001B[43m,\u001B[49m\n\u001B[0;32m     48\u001B[0m \u001B[43m    \u001B[49m\u001B[43moptions\u001B[49m\u001B[38;5;241;43m=\u001B[39;49m\u001B[43moptions\u001B[49m\u001B[43m,\u001B[49m\n\u001B[0;32m     49\u001B[0m \u001B[43m    \u001B[49m\u001B[43mservice\u001B[49m\u001B[38;5;241;43m=\u001B[39;49m\u001B[43mservice\u001B[49m\u001B[43m,\u001B[49m\n\u001B[0;32m     50\u001B[0m \u001B[43m    \u001B[49m\u001B[43mkeep_alive\u001B[49m\u001B[38;5;241;43m=\u001B[39;49m\u001B[43mkeep_alive\u001B[49m\u001B[43m,\u001B[49m\n\u001B[0;32m     51\u001B[0m \u001B[43m\u001B[49m\u001B[43m)\u001B[49m\n",
      "File \u001B[1;32m~\\AppData\\Local\\pypoetry\\Cache\\virtualenvs\\simplon-studies-U4Vljfao-py3.12\\Lib\\site-packages\\selenium\\webdriver\\chromium\\webdriver.py:50\u001B[0m, in \u001B[0;36mChromiumDriver.__init__\u001B[1;34m(self, browser_name, vendor_prefix, options, service, keep_alive)\u001B[0m\n\u001B[0;32m     47\u001B[0m \u001B[38;5;28mself\u001B[39m\u001B[38;5;241m.\u001B[39mservice \u001B[38;5;241m=\u001B[39m service\n\u001B[0;32m     49\u001B[0m finder \u001B[38;5;241m=\u001B[39m DriverFinder(\u001B[38;5;28mself\u001B[39m\u001B[38;5;241m.\u001B[39mservice, options)\n\u001B[1;32m---> 50\u001B[0m \u001B[38;5;28;01mif\u001B[39;00m \u001B[43mfinder\u001B[49m\u001B[38;5;241;43m.\u001B[39;49m\u001B[43mget_browser_path\u001B[49m\u001B[43m(\u001B[49m\u001B[43m)\u001B[49m:\n\u001B[0;32m     51\u001B[0m     options\u001B[38;5;241m.\u001B[39mbinary_location \u001B[38;5;241m=\u001B[39m finder\u001B[38;5;241m.\u001B[39mget_browser_path()\n\u001B[0;32m     52\u001B[0m     options\u001B[38;5;241m.\u001B[39mbrowser_version \u001B[38;5;241m=\u001B[39m \u001B[38;5;28;01mNone\u001B[39;00m\n",
      "File \u001B[1;32m~\\AppData\\Local\\pypoetry\\Cache\\virtualenvs\\simplon-studies-U4Vljfao-py3.12\\Lib\\site-packages\\selenium\\webdriver\\common\\driver_finder.py:47\u001B[0m, in \u001B[0;36mDriverFinder.get_browser_path\u001B[1;34m(self)\u001B[0m\n\u001B[0;32m     46\u001B[0m \u001B[38;5;28;01mdef\u001B[39;00m \u001B[38;5;21mget_browser_path\u001B[39m(\u001B[38;5;28mself\u001B[39m) \u001B[38;5;241m-\u001B[39m\u001B[38;5;241m>\u001B[39m \u001B[38;5;28mstr\u001B[39m:\n\u001B[1;32m---> 47\u001B[0m     \u001B[38;5;28;01mreturn\u001B[39;00m \u001B[38;5;28;43mself\u001B[39;49m\u001B[38;5;241;43m.\u001B[39;49m\u001B[43m_binary_paths\u001B[49m\u001B[43m(\u001B[49m\u001B[43m)\u001B[49m[\u001B[38;5;124m\"\u001B[39m\u001B[38;5;124mbrowser_path\u001B[39m\u001B[38;5;124m\"\u001B[39m]\n",
      "File \u001B[1;32m~\\AppData\\Local\\pypoetry\\Cache\\virtualenvs\\simplon-studies-U4Vljfao-py3.12\\Lib\\site-packages\\selenium\\webdriver\\common\\driver_finder.py:78\u001B[0m, in \u001B[0;36mDriverFinder._binary_paths\u001B[1;34m(self)\u001B[0m\n\u001B[0;32m     76\u001B[0m \u001B[38;5;28;01mexcept\u001B[39;00m \u001B[38;5;167;01mException\u001B[39;00m \u001B[38;5;28;01mas\u001B[39;00m err:\n\u001B[0;32m     77\u001B[0m     msg \u001B[38;5;241m=\u001B[39m \u001B[38;5;124mf\u001B[39m\u001B[38;5;124m\"\u001B[39m\u001B[38;5;124mUnable to obtain driver for \u001B[39m\u001B[38;5;132;01m{\u001B[39;00mbrowser\u001B[38;5;132;01m}\u001B[39;00m\u001B[38;5;124m\"\u001B[39m\n\u001B[1;32m---> 78\u001B[0m     \u001B[38;5;28;01mraise\u001B[39;00m NoSuchDriverException(msg) \u001B[38;5;28;01mfrom\u001B[39;00m \u001B[38;5;21;01merr\u001B[39;00m\n\u001B[0;32m     79\u001B[0m \u001B[38;5;28;01mreturn\u001B[39;00m \u001B[38;5;28mself\u001B[39m\u001B[38;5;241m.\u001B[39m_paths\n",
      "\u001B[1;31mNoSuchDriverException\u001B[0m: Message: Unable to obtain driver for chrome; For documentation on this error, please visit: https://www.selenium.dev/documentation/webdriver/troubleshooting/errors/driver_location\n"
     ]
    }
   ],
   "execution_count": 164
  },
  {
   "cell_type": "code",
   "execution_count": null,
   "id": "769288b3",
   "metadata": {
    "id": "769288b3"
   },
   "outputs": [],
   "source": []
  },
  {
   "cell_type": "markdown",
   "id": "a0324831",
   "metadata": {
    "id": "a0324831"
   },
   "source": [
    "## Ressources utiles\n",
    "\n",
    "\n",
    "\n",
    "https://www.crummy.com/software/BeautifulSoup/bs4/doc/\n",
    "\n",
    "https://www.crummy.com/software/BeautifulSoup/bs4/doc/#css-selectors\n",
    "\n",
    "\n"
   ]
  },
  {
   "cell_type": "code",
   "execution_count": null,
   "id": "ad6a22f7",
   "metadata": {
    "id": "ad6a22f7"
   },
   "outputs": [],
   "source": []
  }
 ],
 "metadata": {
  "kernelspec": {
   "display_name": "Python 3 (ipykernel)",
   "language": "python",
   "name": "python3"
  },
  "language_info": {
   "codemirror_mode": {
    "name": "ipython",
    "version": 3
   },
   "file_extension": ".py",
   "mimetype": "text/x-python",
   "name": "python",
   "nbconvert_exporter": "python",
   "pygments_lexer": "ipython3",
   "version": "3.9.12"
  },
  "toc": {
   "base_numbering": 1,
   "nav_menu": {},
   "number_sections": true,
   "sideBar": true,
   "skip_h1_title": true,
   "title_cell": "Table of Contents",
   "title_sidebar": "Contents",
   "toc_cell": false,
   "toc_position": {
    "height": "calc(100% - 180px)",
    "left": "10px",
    "top": "150px",
    "width": "165px"
   },
   "toc_section_display": true,
   "toc_window_display": true
  },
  "colab": {
   "provenance": []
  }
 },
 "nbformat": 4,
 "nbformat_minor": 5
}
