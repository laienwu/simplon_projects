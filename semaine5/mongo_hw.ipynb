{
 "cells": [
  {
   "cell_type": "code",
   "id": "initial_id",
   "metadata": {
    "collapsed": true,
    "ExecuteTime": {
     "end_time": "2024-07-22T22:23:37.937136Z",
     "start_time": "2024-07-22T22:23:37.933732Z"
    }
   },
   "source": [
    "import json\n",
    "import pymongo\n",
    "from pymongo import MongoClient"
   ],
   "outputs": [],
   "execution_count": 16
  },
  {
   "metadata": {
    "ExecuteTime": {
     "end_time": "2024-07-22T22:27:18.098951Z",
     "start_time": "2024-07-22T22:27:18.092410Z"
    }
   },
   "cell_type": "code",
   "source": [
    "client = MongoClient(\"mongodb://localhost:27017/\")\n",
    "# client = MongoClient(\"mongodb:user:pass//localhost:27017/\")\n",
    "client"
   ],
   "id": "148bf041427eab07",
   "outputs": [
    {
     "data": {
      "text/plain": [
       "MongoClient(host=['localhost:27017'], document_class=dict, tz_aware=False, connect=True)"
      ]
     },
     "execution_count": 22,
     "metadata": {},
     "output_type": "execute_result"
    }
   ],
   "execution_count": 22
  },
  {
   "metadata": {
    "ExecuteTime": {
     "end_time": "2024-07-22T22:27:18.896746Z",
     "start_time": "2024-07-22T22:27:18.891216Z"
    }
   },
   "cell_type": "code",
   "source": [
    "db = client[\"test-database\"]\n",
    "collection = db[\"test-collection\"]"
   ],
   "id": "c8b0cd34d8576607",
   "outputs": [],
   "execution_count": 23
  },
  {
   "metadata": {
    "ExecuteTime": {
     "end_time": "2024-07-22T22:27:19.588553Z",
     "start_time": "2024-07-22T22:27:19.329079Z"
    }
   },
   "cell_type": "code",
   "source": [
    "with open(\"script/database/sample-airbnb.json\", 'r', encoding='utf-8') as file:\n",
    "    data = json.load(file)\n",
    "    if isinstance(data, list):\n",
    "        collection.insert_many(data)\n",
    "    else:\n",
    "        collection.insert_one(data)"
   ],
   "id": "31b42b02cda4a8af",
   "outputs": [],
   "execution_count": 24
  },
  {
   "metadata": {},
   "cell_type": "code",
   "outputs": [],
   "execution_count": null,
   "source": "",
   "id": "9ca21125f06c44c6"
  }
 ],
 "metadata": {
  "kernelspec": {
   "display_name": "Python 3",
   "language": "python",
   "name": "python3"
  },
  "language_info": {
   "codemirror_mode": {
    "name": "ipython",
    "version": 2
   },
   "file_extension": ".py",
   "mimetype": "text/x-python",
   "name": "python",
   "nbconvert_exporter": "python",
   "pygments_lexer": "ipython2",
   "version": "2.7.6"
  }
 },
 "nbformat": 4,
 "nbformat_minor": 5
}
