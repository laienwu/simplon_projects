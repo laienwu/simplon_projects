{
 "cells": [
  {
   "cell_type": "code",
   "execution_count": null,
   "metadata": {
    "id": "2CBWitNp3DKe"
   },
   "outputs": [],
   "source": [
    "%%capture\n",
    "!pip install pyspark"
   ]
  },
  {
   "cell_type": "code",
   "execution_count": null,
   "metadata": {
    "id": "7vgjdgrJ7NA7"
   },
   "outputs": [],
   "source": [
    "# ! apt-get install -y openjdk-8-jdk-headless -qq > /dev/null"
   ]
  },
  {
   "cell_type": "markdown",
   "metadata": {
    "id": "A8X5LNBe3DKg"
   },
   "source": [
    "## Link spark with jupyter\n",
    "\n",
    "```\n",
    "export PYSPARK_DRIVER_PYTHON=path_to_your_jupyter_file_anaconda/bin/jupyter..\n",
    "export PYSPARK_DRIVER_PYTHON_OPTS=\"notebook --NotebookApp.open_browser=False --NotebookApp.ip='*' --NotebookApp.port=8880\"\n",
    "```\n",
    "\n",
    "## Run jupyter notebook\n",
    "\n",
    "on your anaconda Prompt:\n",
    "```\n",
    "pyspark\n",
    "```\n",
    "\n"
   ]
  },
  {
   "cell_type": "code",
   "execution_count": 1,
   "metadata": {
    "execution": {
     "iopub.execute_input": "2024-08-23T08:09:24.309208Z",
     "iopub.status.busy": "2024-08-23T08:09:24.309208Z",
     "iopub.status.idle": "2024-08-23T08:09:24.330182Z",
     "shell.execute_reply": "2024-08-23T08:09:24.330182Z",
     "shell.execute_reply.started": "2024-08-23T08:09:24.309208Z"
    },
    "id": "l1sGDomD3DKi"
   },
   "outputs": [],
   "source": [
    "try:\n",
    "    sc.stop()\n",
    "except:\n",
    "    pass\n"
   ]
  },
  {
   "cell_type": "code",
   "execution_count": 2,
   "metadata": {
    "ExecuteTime": {
     "end_time": "2024-08-21T12:47:00.056805Z",
     "start_time": "2024-08-21T12:46:55.055817Z"
    },
    "colab": {
     "base_uri": "https://localhost:8080/",
     "height": 196
    },
    "execution": {
     "iopub.execute_input": "2024-08-23T08:09:26.917275Z",
     "iopub.status.busy": "2024-08-23T08:09:26.916732Z",
     "iopub.status.idle": "2024-08-23T08:09:32.917244Z",
     "shell.execute_reply": "2024-08-23T08:09:32.917244Z",
     "shell.execute_reply.started": "2024-08-23T08:09:26.917275Z"
    },
    "executionInfo": {
     "elapsed": 609,
     "status": "ok",
     "timestamp": 1724159086725,
     "user": {
      "displayName": "laien wu",
      "userId": "17614188222197305014"
     },
     "user_tz": -120
    },
    "id": "eHzcTwgu3DKj",
    "outputId": "37659b18-6172-43cb-a5c9-d476ed96bd62"
   },
   "outputs": [
    {
     "data": {
      "text/html": [
       "\n",
       "        <div>\n",
       "            <p><b>SparkContext</b></p>\n",
       "\n",
       "            <p><a href=\"http://host.docker.internal:4041\">Spark UI</a></p>\n",
       "\n",
       "            <dl>\n",
       "              <dt>Version</dt>\n",
       "                <dd><code>v3.5.1</code></dd>\n",
       "              <dt>Master</dt>\n",
       "                <dd><code>local[*]</code></dd>\n",
       "              <dt>AppName</dt>\n",
       "                <dd><code>HelloWorldFromPySpark</code></dd>\n",
       "            </dl>\n",
       "        </div>\n",
       "        "
      ],
      "text/plain": [
       "<SparkContext master=local[*] appName=HelloWorldFromPySpark>"
      ]
     },
     "execution_count": 2,
     "metadata": {},
     "output_type": "execute_result"
    }
   ],
   "source": [
    "# create entry points to spark\n",
    "from pyspark import SparkContext\n",
    "from pyspark.sql import SparkSession\n",
    "\n",
    "spark = SparkSession \\\n",
    "        .builder \\\n",
    "        .appName(\"HelloWorldFromPySpark\") \\\n",
    "        .config(\"spark.some.config.option\", \"some-value\") \\\n",
    "        .getOrCreate()\n",
    "\n",
    "sc = spark.sparkContext\n",
    "sc"
   ]
  },
  {
   "cell_type": "code",
   "execution_count": 3,
   "metadata": {
    "ExecuteTime": {
     "end_time": "2024-08-21T12:47:00.097187Z",
     "start_time": "2024-08-21T12:47:00.092705Z"
    },
    "colab": {
     "base_uri": "https://localhost:8080/"
    },
    "execution": {
     "iopub.execute_input": "2024-08-23T08:09:32.920764Z",
     "iopub.status.busy": "2024-08-23T08:09:32.920764Z",
     "iopub.status.idle": "2024-08-23T08:09:32.927722Z",
     "shell.execute_reply": "2024-08-23T08:09:32.926550Z",
     "shell.execute_reply.started": "2024-08-23T08:09:32.920764Z"
    },
    "executionInfo": {
     "elapsed": 253,
     "status": "ok",
     "timestamp": 1724159092625,
     "user": {
      "displayName": "laien wu",
      "userId": "17614188222197305014"
     },
     "user_tz": -120
    },
    "id": "kuquEbWE3DKk",
    "outputId": "369f9cd0-3f14-4f91-f8ee-cddaa542688f"
   },
   "outputs": [
    {
     "name": "stdout",
     "output_type": "stream",
     "text": [
      "3.5.1\n"
     ]
    }
   ],
   "source": [
    "print(sc.version)"
   ]
  },
  {
   "cell_type": "code",
   "execution_count": 4,
   "metadata": {
    "execution": {
     "iopub.execute_input": "2024-08-23T08:09:32.928815Z",
     "iopub.status.busy": "2024-08-23T08:09:32.928815Z",
     "iopub.status.idle": "2024-08-23T08:09:32.978182Z",
     "shell.execute_reply": "2024-08-23T08:09:32.977000Z",
     "shell.execute_reply.started": "2024-08-23T08:09:32.928815Z"
    }
   },
   "outputs": [
    {
     "name": "stdout",
     "output_type": "stream",
     "text": [
      "Python 3.11.9\n"
     ]
    }
   ],
   "source": [
    "!python --version"
   ]
  },
  {
   "cell_type": "code",
   "execution_count": 6,
   "metadata": {
    "ExecuteTime": {
     "end_time": "2024-08-21T12:48:47.354385Z",
     "start_time": "2024-08-21T12:48:47.199903Z"
    },
    "execution": {
     "iopub.execute_input": "2024-08-23T08:10:12.149826Z",
     "iopub.status.busy": "2024-08-23T08:10:12.149826Z",
     "iopub.status.idle": "2024-08-23T08:10:14.323234Z",
     "shell.execute_reply": "2024-08-23T08:10:14.323234Z",
     "shell.execute_reply.started": "2024-08-23T08:10:12.149826Z"
    }
   },
   "outputs": [
    {
     "data": {
      "text/plain": [
       "['Hello world', 'Hello BigData']"
      ]
     },
     "execution_count": 6,
     "metadata": {},
     "output_type": "execute_result"
    }
   ],
   "source": [
    "rdd = sc.textFile(\"input.txt\")\n",
    "rdd.collect()"
   ]
  },
  {
   "cell_type": "code",
   "execution_count": 8,
   "metadata": {
    "ExecuteTime": {
     "end_time": "2024-08-21T12:51:13.674656Z",
     "start_time": "2024-08-21T12:51:12.211427Z"
    },
    "colab": {
     "base_uri": "https://localhost:8080/"
    },
    "execution": {
     "iopub.execute_input": "2024-08-23T08:10:20.623307Z",
     "iopub.status.busy": "2024-08-23T08:10:20.623307Z",
     "iopub.status.idle": "2024-08-23T08:10:23.148173Z",
     "shell.execute_reply": "2024-08-23T08:10:23.147149Z",
     "shell.execute_reply.started": "2024-08-23T08:10:20.623307Z"
    },
    "executionInfo": {
     "elapsed": 909,
     "status": "ok",
     "timestamp": 1724160464714,
     "user": {
      "displayName": "laien wu",
      "userId": "17614188222197305014"
     },
     "user_tz": -120
    },
    "id": "2Eswao0Q96IQ",
    "outputId": "8bc81fbb-51e8-49b3-e989-ea30a6d62571"
   },
   "outputs": [
    {
     "name": "stdout",
     "output_type": "stream",
     "text": [
      "hello world\n",
      "hello bigdata\n"
     ]
    }
   ],
   "source": [
    "#lower case\n",
    "lower_rdd = rdd.map(lambda line: line.lower())\n",
    "for line in lower_rdd.collect():\n",
    "    print(line)\n"
   ]
  },
  {
   "cell_type": "code",
   "execution_count": 11,
   "metadata": {
    "colab": {
     "base_uri": "https://localhost:8080/"
    },
    "execution": {
     "iopub.execute_input": "2024-08-23T08:11:13.736185Z",
     "iopub.status.busy": "2024-08-23T08:11:13.736185Z",
     "iopub.status.idle": "2024-08-23T08:11:16.155857Z",
     "shell.execute_reply": "2024-08-23T08:11:16.155857Z",
     "shell.execute_reply.started": "2024-08-23T08:11:13.736185Z"
    },
    "executionInfo": {
     "elapsed": 684,
     "status": "ok",
     "timestamp": 1724160499977,
     "user": {
      "displayName": "laien wu",
      "userId": "17614188222197305014"
     },
     "user_tz": -120
    },
    "id": "kiqPZS7o-OTy",
    "outputId": "b3ee2298-0086-439c-de11-0368529cbccb"
   },
   "outputs": [
    {
     "name": "stdout",
     "output_type": "stream",
     "text": [
      "hello\n",
      "world\n",
      "hello\n",
      "bigdata\n"
     ]
    }
   ],
   "source": [
    "#split in word\n",
    "words_rdd = lower_rdd.flatMap(lambda line: line.split())\n",
    "\n",
    "for word in words_rdd.collect():\n",
    "    print(word)\n"
   ]
  },
  {
   "cell_type": "code",
   "execution_count": 12,
   "metadata": {
    "colab": {
     "base_uri": "https://localhost:8080/"
    },
    "execution": {
     "iopub.execute_input": "2024-08-23T08:11:17.871623Z",
     "iopub.status.busy": "2024-08-23T08:11:17.871623Z",
     "iopub.status.idle": "2024-08-23T08:11:22.903559Z",
     "shell.execute_reply": "2024-08-23T08:11:22.902136Z",
     "shell.execute_reply.started": "2024-08-23T08:11:17.871623Z"
    },
    "executionInfo": {
     "elapsed": 1995,
     "status": "ok",
     "timestamp": 1724160802145,
     "user": {
      "displayName": "laien wu",
      "userId": "17614188222197305014"
     },
     "user_tz": -120
    },
    "id": "skZvn2dj-uY8",
    "outputId": "940b4cc3-a9d3-4d2b-d634-cb96fcd41231"
   },
   "outputs": [
    {
     "name": "stdout",
     "output_type": "stream",
     "text": [
      "hello: 2\n",
      "world: 1\n",
      "bigdata: 1\n"
     ]
    }
   ],
   "source": [
    "# get counts\n",
    "word_count_rdd = words_rdd.map(lambda word: (word, 1)).reduceByKey(lambda a, b: a + b)\n",
    "\n",
    "for word, count in word_count_rdd.collect():\n",
    "    print(f\"{word}: {count}\")"
   ]
  },
  {
   "cell_type": "code",
   "execution_count": 13,
   "metadata": {
    "colab": {
     "base_uri": "https://localhost:8080/"
    },
    "execution": {
     "iopub.execute_input": "2024-08-23T08:11:25.455512Z",
     "iopub.status.busy": "2024-08-23T08:11:25.455512Z",
     "iopub.status.idle": "2024-08-23T08:11:33.289392Z",
     "shell.execute_reply": "2024-08-23T08:11:33.289392Z",
     "shell.execute_reply.started": "2024-08-23T08:11:25.455512Z"
    },
    "executionInfo": {
     "elapsed": 2159,
     "status": "ok",
     "timestamp": 1724161203242,
     "user": {
      "displayName": "laien wu",
      "userId": "17614188222197305014"
     },
     "user_tz": -120
    },
    "id": "fb-YVQCYAd_N",
    "outputId": "7dff68f3-c35b-4464-ef40-321715391533"
   },
   "outputs": [
    {
     "name": "stdout",
     "output_type": "stream",
     "text": [
      "hello: 2\n",
      "world: 1\n",
      "bigdata: 1\n"
     ]
    }
   ],
   "source": [
    "# sort the counts\n",
    "sorted_word_count_rdd = word_count_rdd.sortBy(lambda x: x[1], ascending=False)\n",
    "\n",
    "for word, count in sorted_word_count_rdd.collect():\n",
    "    print(f\"{word}: {count}\")\n"
   ]
  }
 ],
 "metadata": {
  "colab": {
   "provenance": [
    {
     "file_id": "1XNODqqQ36eH6tQVzIdypXWZPfHtvbMVg",
     "timestamp": 1724158618187
    }
   ],
   "toc_visible": true
  },
  "kernelspec": {
   "display_name": "Python 3 (ipykernel)",
   "language": "python",
   "name": "python3"
  },
  "language_info": {
   "codemirror_mode": {
    "name": "ipython",
    "version": 3
   },
   "file_extension": ".py",
   "mimetype": "text/x-python",
   "name": "python",
   "nbconvert_exporter": "python",
   "pygments_lexer": "ipython3",
   "version": "3.11.9"
  },
  "toc": {
   "base_numbering": 1,
   "nav_menu": {},
   "number_sections": true,
   "sideBar": true,
   "skip_h1_title": true,
   "title_cell": "Table of Contents",
   "title_sidebar": "Contents",
   "toc_cell": false,
   "toc_position": {},
   "toc_section_display": true,
   "toc_window_display": false
  }
 },
 "nbformat": 4,
 "nbformat_minor": 4
}
