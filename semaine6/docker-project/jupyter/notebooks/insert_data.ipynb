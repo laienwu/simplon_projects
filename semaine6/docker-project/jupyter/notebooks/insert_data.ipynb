{
 "cells": [
  {
   "cell_type": "markdown",
   "id": "d306dc35-c6ec-480a-8418-da96a772bd59",
   "metadata": {},
   "source": [
    "# Analytics graphics"
   ]
  },
  {
   "cell_type": "code",
   "execution_count": 3,
   "id": "1e8e93fea8d2d17e",
   "metadata": {},
   "outputs": [
    {
     "name": "stdout",
     "output_type": "stream",
     "text": [
      "5555\n"
     ]
    }
   ],
   "source": [
    "%run insert_data.py"
   ]
  },
  {
   "cell_type": "code",
   "execution_count": 4,
   "id": "initial_id",
   "metadata": {
    "ExecuteTime": {
     "end_time": "2024-07-31T23:43:20.987198Z",
     "start_time": "2024-07-31T23:43:20.886233Z"
    }
   },
   "outputs": [],
   "source": [
    "from pymongo import MongoClient"
   ]
  },
  {
   "cell_type": "code",
   "execution_count": 7,
   "id": "1d5842022e6373ec",
   "metadata": {
    "ExecuteTime": {
     "end_time": "2024-07-31T23:43:35.731364Z",
     "start_time": "2024-07-31T23:43:35.728422Z"
    }
   },
   "outputs": [],
   "source": [
    "client= MongoClient(f'mongodb://usr:pw@mongodb:27017/')\n",
    "db = client[\"airbnb\"]\n",
    "collection = db[\"listingsAndReviews\"]"
   ]
  },
  {
   "cell_type": "code",
   "execution_count": 8,
   "id": "e8d9faf1db81e5c7",
   "metadata": {
    "ExecuteTime": {
     "end_time": "2024-07-31T23:43:38.496392Z",
     "start_time": "2024-07-31T23:43:38.042317Z"
    }
   },
   "outputs": [
    {
     "data": {
      "text/plain": [
       "5555"
      ]
     },
     "execution_count": 8,
     "metadata": {},
     "output_type": "execute_result"
    }
   ],
   "source": [
    "# show the total number of listings in Sydney\n",
    "collection.count_documents({})"
   ]
  },
  {
   "cell_type": "code",
   "execution_count": null,
   "id": "9ca27be8-5365-4014-a52d-bbd1c7d79d54",
   "metadata": {},
   "outputs": [],
   "source": []
  }
 ],
 "metadata": {
  "kernelspec": {
   "display_name": "Python 3 (ipykernel)",
   "language": "python",
   "name": "python3"
  },
  "language_info": {
   "codemirror_mode": {
    "name": "ipython",
    "version": 3
   },
   "file_extension": ".py",
   "mimetype": "text/x-python",
   "name": "python",
   "nbconvert_exporter": "python",
   "pygments_lexer": "ipython3",
   "version": "3.12.4"
  }
 },
 "nbformat": 4,
 "nbformat_minor": 5
}
