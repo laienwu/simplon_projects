{
 "cells": [
  {
   "cell_type": "markdown",
   "id": "b26ccb9e",
   "metadata": {
    "id": "b26ccb9e"
   },
   "source": [
    "## Le WebScraping en étapes:\n",
    "\n",
    "Pour les bibliothèques nécessaires pour les exemples ci-dessous, vous pouvez accéder à votre ligne de commande et les installer avec Conda install (si vous utilisez la distribution Anaconda) ou pip install pour les autres distributions Python.\n",
    "\n",
    "1.) **Requests** : Ce module est utilisé pour visiter une URL et obtenir le contenu d'une page web.La bibliothèque \"Requests\" en Python est un outil populaire utilisé pour simplifier les opérations liées aux requêtes HTTP. Elle offre une interface simple et élégante pour envoyer des requêtes HTTP, gérer les cookies, les en-têtes, les sessions, et gérer d'autres aspects liés aux communications web. \"Requests\" permet aux développeurs d'interagir facilement avec des API, de récupérer des données à partir de sites web, et d'effectuer diverses opérations liées aux protocoles HTTP. Grâce à sa simplicité d'utilisation et à ses fonctionnalités puissantes, \"Requests\" est largement utilisée dans le domaine du web scraping, de l'automatisation web, et de l'accès aux services web.\n",
    "\n",
    "Vous pouvez le télécharger avec pip install requests ou conda install requests (pour la distribution Anaconda de Python) dans votre invite de commande.\n",
    "\n",
    "2.) **BeautifulSoup** :une bibliothèque Python qui facilite l'extraction d'informations à partir de documents HTML et XML. Elle offre des méthodes souples pour parcourir et rechercher des éléments dans le code source HTML/XML, facilitant ainsi l'analyse et la manipulation de données web..\n",
    "\n",
    "Vous pouvez le télécharger avec pip install beautifulsoup4 ou conda install beautifulsoup4 (pour la distribution Anaconda de Python) dans votre invite de commande.\n",
    "\n",
    "3.) **parser HTML** :Beautiful Soup prend en charge différents parseurs (analysateurs) pour analyser le code source HTML ou XML. Deux des parseurs populaires utilisés avec Beautiful Soup sont \"lxml\" et \"html.parser\"...\n",
    "\n",
    "* lxml : \"lxml\" est un parseur externe qui est construit sur les bibliothèques C libxml2 et libxslt. Il est rapide, efficace et capable de gérer des documents HTML et XML complexes. \"lxml\" est souvent recommandé pour sa rapidité, en particulier lors du traitement de grandes quantités de données.\n",
    "\n",
    "\n",
    "* html.parser : \"html.parser\" est un parseur natif inclus dans la bibliothèque standard de Python. Il est plus lent que \"lxml\" mais peut être suffisant pour des tâches moins gourmandes en ressources. Aucune installation supplémentaire n'est nécessaire, car il fait partie de la bibliothèque standard.\n",
    "\n",
    "\n",
    "* html5lib : Il s'agit d'un parseur externe qui implémente l'algorithme de l'HTML Living Standard. Il est précis et capable de gérer des documents HTML mal formés, mais il est généralement plus lent que les autres parseurs."
   ]
  },
  {
   "cell_type": "markdown",
   "id": "b5f68f01",
   "metadata": {
    "id": "b5f68f01"
   },
   "source": [
    "## Application:\n",
    "\n",
    "On considère le site: www.imdb.com"
   ]
  },
  {
   "cell_type": "markdown",
   "id": "8801e3ba",
   "metadata": {
    "id": "8801e3ba"
   },
   "source": [
    "**1- Analyse du Site Web :**\n",
    "\n",
    "On considère le site imdb et cette URL : https://www.imdb.com/title/tt0108778/episodes/ .inspectez la structure HTML pour comprendre comment les informations de la série ,ses épisodes et les différentes saisons sont présentées.\n",
    "Identifiez les balises HTML, les classes et les IDs pertinents qui contiennent les données que vous souhaitez extraire.\n",
    "\n",
    "**2-Extraction des Informations de Base :**\n",
    "\n",
    "* 2.1- les épisodes de la saison 1:\n",
    "\n",
    "Utilisez Beautiful Soup pour envoyer une requête HTTP à la page https://www.imdb.com/title/tt0108778/episodes/  récupérez le contenu HTML.\n",
    "Récupérez la liste des episodes de la 1ere saison.\n",
    "Récupérer pour chaque épisode , son numéro, son nom, la date de sortie, la note et la description\n",
    "\n",
    "* 2.2-Récupérer toutes les saisons  \n",
    "\n",
    "Etendre votre travail précédent pour extraire les les épisodes des 10 saisons de la série\n",
    "\n"
   ]
  },
  {
   "metadata": {},
   "cell_type": "markdown",
   "source": "# Imports",
   "id": "a99ac4f7242743a5"
  },
  {
   "cell_type": "code",
   "id": "957ca859",
   "metadata": {
    "id": "957ca859",
    "ExecuteTime": {
     "end_time": "2024-07-17T17:53:25.792352Z",
     "start_time": "2024-07-17T17:53:25.198772Z"
    }
   },
   "source": [
    "import requests\n",
    "from bs4 import BeautifulSoup\n",
    "from typing import Optional\n",
    "import pandas as pd\n",
    "import sqlite3\n",
    "import numpy as np\n",
    "import matplotlib.pyplot as plt\n",
    "import seaborn as sns"
   ],
   "outputs": [],
   "execution_count": 1
  },
  {
   "metadata": {},
   "cell_type": "markdown",
   "source": "# Scraping using BS4",
   "id": "fc86fa84f32cda95"
  },
  {
   "cell_type": "code",
   "id": "ce39b924",
   "metadata": {
    "id": "ce39b924",
    "outputId": "a6ff72df-c6e3-4533-eee8-e0b6a8b24950",
    "colab": {
     "base_uri": "https://localhost:8080/"
    },
    "ExecuteTime": {
     "end_time": "2024-07-17T17:53:27.161514Z",
     "start_time": "2024-07-17T17:53:25.792352Z"
    }
   },
   "source": [
    "# L'url du site à scrapper\n",
    "url = 'https://www.imdb.com/title/tt0108778/episodes/'\n",
    "\n",
    "# ma requete HTTP avec un \"GET\" au serveur du site identifier dans l'url\n",
    "headers = {\n",
    "    'User-Agent': 'Mozilla/5.0 (Windows NT 10.0; Win64; x64) AppleWebKit/537.36 (KHTML, like Gecko) Chrome/58.0.3029.110 Safari/537.3,content-Type=application/json','Accept-Language': 'en-US,en;q=0.5'}\n",
    "response = requests.get(url, headers=headers)\n",
    "\n",
    "# J'affiche l'url ainsi que le retour du serveur\n",
    "print(url, response.status_code)\n",
    "\n"
   ],
   "outputs": [
    {
     "name": "stdout",
     "output_type": "stream",
     "text": [
      "https://www.imdb.com/title/tt0108778/episodes/ 200\n"
     ]
    }
   ],
   "execution_count": 2
  },
  {
   "cell_type": "code",
   "id": "beb7a2be",
   "metadata": {
    "id": "beb7a2be",
    "ExecuteTime": {
     "end_time": "2024-07-17T17:53:27.325583Z",
     "start_time": "2024-07-17T17:53:27.161514Z"
    }
   },
   "source": [
    "# Je demande à beautifulSoup de conserver dans une variable \"soup\" la page web à scrapper (un script html)\n",
    "soup = BeautifulSoup(response.content, 'html')\n",
    "# soup"
   ],
   "outputs": [],
   "execution_count": 3
  },
  {
   "cell_type": "code",
   "id": "1e651cdf",
   "metadata": {
    "id": "1e651cdf",
    "colab": {
     "base_uri": "https://localhost:8080/"
    },
    "outputId": "317de131-d7cb-4caf-9651-2b7cdbf8e578",
    "ExecuteTime": {
     "end_time": "2024-07-17T17:53:27.343624Z",
     "start_time": "2024-07-17T17:53:27.325583Z"
    }
   },
   "source": [
    "titres = soup.find_all('div', {'class': 'sc-ccd6e31b-4 eMYVLm'})\n",
    "# titres.find_all('div', {'class': 'sc-ccd6e31b-5 cXcoHr'})\n",
    "titres[0].find('div', {'class': 'ipc-title__text'})\n",
    "# titres[0].find('span', {'class': 'ipc-rating-star ipc-rating-star--base ipc-rating-star--imdb ratingGroup--imdb-rating'}).text"
   ],
   "outputs": [
    {
     "data": {
      "text/plain": [
       "<div class=\"ipc-title__text\">S1.E1 ∙ The One Where Monica Gets a Roommate</div>"
      ]
     },
     "execution_count": 4,
     "metadata": {},
     "output_type": "execute_result"
    }
   ],
   "execution_count": 4
  },
  {
   "cell_type": "code",
   "source": [
    "def extract_info(url: str) -> list[str]:\n",
    "    headers = {\n",
    "        'User-Agent': 'Mozilla/5.0 (Windows NT 10.0; Win64; x64) AppleWebKit/537.36 (KHTML, like Gecko) Chrome/58.0.3029.110 Safari/537.3','Accept-Language': 'en-US,en;q=0.5'}\n",
    "    response = requests.get(url, headers=headers)\n",
    "    results = {}\n",
    "    if response.status_code != 200:\n",
    "        print(response.status_code)\n",
    "        exit(1)\n",
    "    soup = BeautifulSoup(response.content, 'html')\n",
    "    episodes = soup.find_all('div', {'class': 'sc-ccd6e31b-4 eMYVLm'})\n",
    "    for episode in episodes:\n",
    "        try:\n",
    "            infos = episode.find('div', {'class': 'ipc-title__text'}).text\n",
    "            number,title=infos.split('∙')\n",
    "            date= episode.find('span', {'class': 'sc-ccd6e31b-10 fVspdm'}).text\n",
    "            note=episode.find('span', {'class': 'ipc-rating-star ipc-rating-star--base ipc-rating-star--imdb ratingGroup--imdb-rating'}).text\n",
    "            results[number]={'title':title.strip(), 'date':date.strip(), 'rating':note.strip()}\n",
    "        except Exception as e:\n",
    "            pass\n",
    "    return results"
   ],
   "metadata": {
    "colab": {
     "base_uri": "https://localhost:8080/"
    },
    "id": "PdFZWyZcUr7q",
    "outputId": "a2dd811b-437a-4f51-c885-ae3419495e16",
    "ExecuteTime": {
     "end_time": "2024-07-17T17:53:27.353069Z",
     "start_time": "2024-07-17T17:53:27.345604Z"
    }
   },
   "id": "PdFZWyZcUr7q",
   "outputs": [],
   "execution_count": 5
  },
  {
   "cell_type": "code",
   "id": "2d181d06",
   "metadata": {
    "id": "2d181d06",
    "ExecuteTime": {
     "end_time": "2024-07-17T17:53:41.986621Z",
     "start_time": "2024-07-17T17:53:27.353069Z"
    }
   },
   "source": [
    "seasons = {}\n",
    "\n",
    "for id_season in range(1, 11):\n",
    "    url = f'https://www.imdb.com/title/tt0108778/episodes/?season={id_season}'\n",
    "    seasons.update(extract_info(url))"
   ],
   "outputs": [],
   "execution_count": 6
  },
  {
   "metadata": {
    "ExecuteTime": {
     "end_time": "2024-07-17T17:53:42.001198Z",
     "start_time": "2024-07-17T17:53:41.988089Z"
    }
   },
   "cell_type": "code",
   "source": [
    "df=pd.DataFrame.from_dict(seasons,orient='index')\n",
    "df.head()"
   ],
   "id": "6da71d022c479988",
   "outputs": [
    {
     "data": {
      "text/plain": [
       "                                                 title               date  \\\n",
       "S1.E1             The One Where Monica Gets a Roommate  Wed, Sep 21, 1994   \n",
       "S1.E2             The One with the Sonogram at the End  Wed, Sep 28, 1994   \n",
       "S1.E3                           The One with the Thumb   Wed, Oct 5, 1994   \n",
       "S1.E4               The One with George Stephanopoulos  Wed, Oct 12, 1994   \n",
       "S1.E5   The One with the East German Laundry Detergent  Wed, Oct 19, 1994   \n",
       "\n",
       "               rating  \n",
       "S1.E1    8.1/10 (10K)  \n",
       "S1.E2     7.9/10 (8K)  \n",
       "S1.E3   8.0/10 (7.5K)  \n",
       "S1.E4   7.9/10 (7.3K)  \n",
       "S1.E5   8.3/10 (7.3K)  "
      ],
      "text/html": [
       "<div>\n",
       "<style scoped>\n",
       "    .dataframe tbody tr th:only-of-type {\n",
       "        vertical-align: middle;\n",
       "    }\n",
       "\n",
       "    .dataframe tbody tr th {\n",
       "        vertical-align: top;\n",
       "    }\n",
       "\n",
       "    .dataframe thead th {\n",
       "        text-align: right;\n",
       "    }\n",
       "</style>\n",
       "<table border=\"1\" class=\"dataframe\">\n",
       "  <thead>\n",
       "    <tr style=\"text-align: right;\">\n",
       "      <th></th>\n",
       "      <th>title</th>\n",
       "      <th>date</th>\n",
       "      <th>rating</th>\n",
       "    </tr>\n",
       "  </thead>\n",
       "  <tbody>\n",
       "    <tr>\n",
       "      <th>S1.E1</th>\n",
       "      <td>The One Where Monica Gets a Roommate</td>\n",
       "      <td>Wed, Sep 21, 1994</td>\n",
       "      <td>8.1/10 (10K)</td>\n",
       "    </tr>\n",
       "    <tr>\n",
       "      <th>S1.E2</th>\n",
       "      <td>The One with the Sonogram at the End</td>\n",
       "      <td>Wed, Sep 28, 1994</td>\n",
       "      <td>7.9/10 (8K)</td>\n",
       "    </tr>\n",
       "    <tr>\n",
       "      <th>S1.E3</th>\n",
       "      <td>The One with the Thumb</td>\n",
       "      <td>Wed, Oct 5, 1994</td>\n",
       "      <td>8.0/10 (7.5K)</td>\n",
       "    </tr>\n",
       "    <tr>\n",
       "      <th>S1.E4</th>\n",
       "      <td>The One with George Stephanopoulos</td>\n",
       "      <td>Wed, Oct 12, 1994</td>\n",
       "      <td>7.9/10 (7.3K)</td>\n",
       "    </tr>\n",
       "    <tr>\n",
       "      <th>S1.E5</th>\n",
       "      <td>The One with the East German Laundry Detergent</td>\n",
       "      <td>Wed, Oct 19, 1994</td>\n",
       "      <td>8.3/10 (7.3K)</td>\n",
       "    </tr>\n",
       "  </tbody>\n",
       "</table>\n",
       "</div>"
      ]
     },
     "execution_count": 7,
     "metadata": {},
     "output_type": "execute_result"
    }
   ],
   "execution_count": 7
  },
  {
   "metadata": {},
   "cell_type": "markdown",
   "source": "## data cleaning,transforming, visualization",
   "id": "c37f5742a67ae69f"
  },
  {
   "metadata": {
    "ExecuteTime": {
     "end_time": "2024-07-17T17:53:42.012684Z",
     "start_time": "2024-07-17T17:53:42.001703Z"
    }
   },
   "cell_type": "code",
   "source": [
    "df[['ratings','stars_count_(K)']]=df['rating'].str.extract(r'(?P<rating>\\d+\\.\\d+)/\\d+\\xa0\\((?P<stars>\\d+(?:\\.\\d*)?)K\\)',expand=True)\n",
    "df['release_date']=pd.to_datetime(df['date'])\n",
    "df.index=df.index.str.split('.',expand=True)\n",
    "df.index.rename(['season','episode'],inplace=True)"
   ],
   "id": "da21d48af67b44f9",
   "outputs": [],
   "execution_count": 8
  },
  {
   "metadata": {
    "ExecuteTime": {
     "end_time": "2024-07-17T17:53:42.041637Z",
     "start_time": "2024-07-17T17:53:42.013745Z"
    }
   },
   "cell_type": "code",
   "source": [
    "cols=['title','release_date','ratings','stars_count_(K)']\n",
    "data=df[cols]\n",
    "data.to_csv('friends_seasons_data.csv',index_label='reference',sep=';')"
   ],
   "id": "4f5277d5c6a10d73",
   "outputs": [],
   "execution_count": 9
  },
  {
   "metadata": {
    "ExecuteTime": {
     "end_time": "2024-07-17T17:53:42.048899Z",
     "start_time": "2024-07-17T17:53:42.041637Z"
    }
   },
   "cell_type": "code",
   "source": [
    "numerics=['ratings','stars_count_(K)']\n",
    "data[numerics]=data[numerics].astype('float')"
   ],
   "id": "3e12f6190d7f65f2",
   "outputs": [
    {
     "name": "stderr",
     "output_type": "stream",
     "text": [
      "C:\\Users\\laien\\AppData\\Local\\Temp\\ipykernel_5652\\1773909833.py:2: SettingWithCopyWarning: \n",
      "A value is trying to be set on a copy of a slice from a DataFrame.\n",
      "Try using .loc[row_indexer,col_indexer] = value instead\n",
      "\n",
      "See the caveats in the documentation: https://pandas.pydata.org/pandas-docs/stable/user_guide/indexing.html#returning-a-view-versus-a-copy\n",
      "  data[numerics]=data[numerics].astype('float')\n"
     ]
    }
   ],
   "execution_count": 10
  },
  {
   "metadata": {
    "ExecuteTime": {
     "end_time": "2024-07-17T17:53:42.690399Z",
     "start_time": "2024-07-17T17:53:42.048899Z"
    }
   },
   "cell_type": "code",
   "source": [
    "plt.figure(figsize=(8, 6))\n",
    "plt.hist(df['ratings'].sort_values(), bins=10, edgecolor='black')\n",
    "\n",
    "plt.xlabel('Ratings')\n",
    "plt.ylabel('Frequency')\n",
    "plt.title('Distribution of Episode Ratings')\n",
    "plt.gca().spines[['top', 'right']].set_visible(False)"
   ],
   "id": "32ee6f34774df27",
   "outputs": [
    {
     "data": {
      "text/plain": [
       "<Figure size 800x600 with 1 Axes>"
      ],
      "image/png": "[encoded data removed]"
     },
     "metadata": {},
     "output_type": "display_data"
    }
   ],
   "execution_count": 11
  },
  {
   "metadata": {
    "ExecuteTime": {
     "end_time": "2024-07-17T17:53:43.073441Z",
     "start_time": "2024-07-17T17:53:42.690399Z"
    }
   },
   "cell_type": "code",
   "source": "data.groupby(level=0).agg({'ratings':'mean'}).sort_values('ratings',ascending=False).plot(xlabel=\"season\",ylabel=\"rating\",title=\"average rating distribution over seasons\")",
   "id": "c6f912bc3c779b6c",
   "outputs": [
    {
     "data": {
      "text/plain": [
       "<Axes: title={'center': 'average rating distribution over seasons'}, xlabel='season', ylabel='rating'>"
      ]
     },
     "execution_count": 12,
     "metadata": {},
     "output_type": "execute_result"
    },
    {
     "data": {
      "text/plain": [
       "<Figure size 640x480 with 1 Axes>"
      ],
      "image/png": "[encoded data removed]"
     },
     "metadata": {},
     "output_type": "display_data"
    }
   ],
   "execution_count": 12
  },
  {
   "metadata": {
    "ExecuteTime": {
     "end_time": "2024-07-17T17:53:43.229901Z",
     "start_time": "2024-07-17T17:53:43.073441Z"
    }
   },
   "cell_type": "code",
   "source": "data.groupby(level=0).agg({'stars_count_(K)':'sum'}).sort_values('stars_count_(K)',ascending=False).plot(xlabel=\"season\",ylabel=\"votes count\",title=\"number of votes per season\")",
   "id": "b19b8ed7d92ad5f8",
   "outputs": [
    {
     "data": {
      "text/plain": [
       "<Axes: title={'center': 'number of votes per season'}, xlabel='season', ylabel='votes count'>"
      ]
     },
     "execution_count": 13,
     "metadata": {},
     "output_type": "execute_result"
    },
    {
     "data": {
      "text/plain": [
       "<Figure size 640x480 with 1 Axes>"
      ],
      "image/png": "[encoded data removed]"
     },
     "metadata": {},
     "output_type": "display_data"
    }
   ],
   "execution_count": 13
  },
  {
   "metadata": {
    "ExecuteTime": {
     "end_time": "2024-07-17T17:53:43.408309Z",
     "start_time": "2024-07-17T17:53:43.229901Z"
    }
   },
   "cell_type": "code",
   "source": [
    "data.groupby(data['release_date'].dt.year).count()['title'].plot(kind='bar',rot=45,title='number of episode per year')\n",
    "# sns.histplot(data['release_date'].dt.year,bins=(2005-1994))"
   ],
   "id": "eae1ccffdb1d2d98",
   "outputs": [
    {
     "data": {
      "text/plain": [
       "<Axes: title={'center': 'number of episode per year'}, xlabel='release_date'>"
      ]
     },
     "execution_count": 14,
     "metadata": {},
     "output_type": "execute_result"
    },
    {
     "data": {
      "text/plain": [
       "<Figure size 640x480 with 1 Axes>"
      ],
      "image/png": "[encoded data removed]"
     },
     "metadata": {},
     "output_type": "display_data"
    }
   ],
   "execution_count": 14
  },
  {
   "metadata": {},
   "cell_type": "markdown",
   "source": "# BDD and queries",
   "id": "434e00c1ba918f82"
  },
  {
   "metadata": {
    "ExecuteTime": {
     "end_time": "2024-07-17T17:53:43.417811Z",
     "start_time": "2024-07-17T17:53:43.409418Z"
    }
   },
   "cell_type": "code",
   "source": [
    "conn=sqlite3.connect(\":memory:\")\n",
    "data.to_sql('friends_seasons',conn)"
   ],
   "id": "53dcd8bf94db7f25",
   "outputs": [
    {
     "data": {
      "text/plain": [
       "234"
      ]
     },
     "execution_count": 15,
     "metadata": {},
     "output_type": "execute_result"
    }
   ],
   "execution_count": 15
  },
  {
   "metadata": {
    "ExecuteTime": {
     "end_time": "2024-07-17T17:53:43.431530Z",
     "start_time": "2024-07-17T17:53:43.417811Z"
    }
   },
   "cell_type": "code",
   "source": [
    "#select all data\n",
    "pd.read_sql_query(\"SELECT * FROM friends_seasons\",conn)"
   ],
   "id": "6be0f77668183c00",
   "outputs": [
    {
     "data": {
      "text/plain": [
       "    season episode                                           title  \\\n",
       "0       S1     E1             The One Where Monica Gets a Roommate   \n",
       "1       S1     E2             The One with the Sonogram at the End   \n",
       "2       S1     E3                           The One with the Thumb   \n",
       "3       S1     E4               The One with George Stephanopoulos   \n",
       "4       S1     E5   The One with the East German Laundry Detergent   \n",
       "..     ...     ...                                             ...   \n",
       "229    S10    E13                 The One Where Joey Speaks French   \n",
       "230    S10    E14                   The One with Princess Consuela   \n",
       "231    S10    E15                       The One Where Estelle Dies   \n",
       "232    S10    E16           The One with Rachel's Going Away Party   \n",
       "233    S10    E17                                     The Last One   \n",
       "\n",
       "            release_date  ratings  stars_count_(K)  \n",
       "0    1994-09-21 00:00:00      8.1             10.0  \n",
       "1    1994-09-28 00:00:00      7.9              8.0  \n",
       "2    1994-10-05 00:00:00      8.0              7.5  \n",
       "3    1994-10-12 00:00:00      7.9              7.3  \n",
       "4    1994-10-19 00:00:00      8.3              7.3  \n",
       "..                   ...      ...              ...  \n",
       "229  2004-02-18 00:00:00      8.3              5.0  \n",
       "230  2004-02-25 00:00:00      8.4              4.8  \n",
       "231  2004-04-21 00:00:00      8.4              4.5  \n",
       "232  2004-04-28 00:00:00      8.8              5.2  \n",
       "233  2004-05-05 00:00:00      9.6             17.0  \n",
       "\n",
       "[234 rows x 6 columns]"
      ],
      "text/html": [
       "<div>\n",
       "<style scoped>\n",
       "    .dataframe tbody tr th:only-of-type {\n",
       "        vertical-align: middle;\n",
       "    }\n",
       "\n",
       "    .dataframe tbody tr th {\n",
       "        vertical-align: top;\n",
       "    }\n",
       "\n",
       "    .dataframe thead th {\n",
       "        text-align: right;\n",
       "    }\n",
       "</style>\n",
       "<table border=\"1\" class=\"dataframe\">\n",
       "  <thead>\n",
       "    <tr style=\"text-align: right;\">\n",
       "      <th></th>\n",
       "      <th>season</th>\n",
       "      <th>episode</th>\n",
       "      <th>title</th>\n",
       "      <th>release_date</th>\n",
       "      <th>ratings</th>\n",
       "      <th>stars_count_(K)</th>\n",
       "    </tr>\n",
       "  </thead>\n",
       "  <tbody>\n",
       "    <tr>\n",
       "      <th>0</th>\n",
       "      <td>S1</td>\n",
       "      <td>E1</td>\n",
       "      <td>The One Where Monica Gets a Roommate</td>\n",
       "      <td>1994-09-21 00:00:00</td>\n",
       "      <td>8.1</td>\n",
       "      <td>10.0</td>\n",
       "    </tr>\n",
       "    <tr>\n",
       "      <th>1</th>\n",
       "      <td>S1</td>\n",
       "      <td>E2</td>\n",
       "      <td>The One with the Sonogram at the End</td>\n",
       "      <td>1994-09-28 00:00:00</td>\n",
       "      <td>7.9</td>\n",
       "      <td>8.0</td>\n",
       "    </tr>\n",
       "    <tr>\n",
       "      <th>2</th>\n",
       "      <td>S1</td>\n",
       "      <td>E3</td>\n",
       "      <td>The One with the Thumb</td>\n",
       "      <td>1994-10-05 00:00:00</td>\n",
       "      <td>8.0</td>\n",
       "      <td>7.5</td>\n",
       "    </tr>\n",
       "    <tr>\n",
       "      <th>3</th>\n",
       "      <td>S1</td>\n",
       "      <td>E4</td>\n",
       "      <td>The One with George Stephanopoulos</td>\n",
       "      <td>1994-10-12 00:00:00</td>\n",
       "      <td>7.9</td>\n",
       "      <td>7.3</td>\n",
       "    </tr>\n",
       "    <tr>\n",
       "      <th>4</th>\n",
       "      <td>S1</td>\n",
       "      <td>E5</td>\n",
       "      <td>The One with the East German Laundry Detergent</td>\n",
       "      <td>1994-10-19 00:00:00</td>\n",
       "      <td>8.3</td>\n",
       "      <td>7.3</td>\n",
       "    </tr>\n",
       "    <tr>\n",
       "      <th>...</th>\n",
       "      <td>...</td>\n",
       "      <td>...</td>\n",
       "      <td>...</td>\n",
       "      <td>...</td>\n",
       "      <td>...</td>\n",
       "      <td>...</td>\n",
       "    </tr>\n",
       "    <tr>\n",
       "      <th>229</th>\n",
       "      <td>S10</td>\n",
       "      <td>E13</td>\n",
       "      <td>The One Where Joey Speaks French</td>\n",
       "      <td>2004-02-18 00:00:00</td>\n",
       "      <td>8.3</td>\n",
       "      <td>5.0</td>\n",
       "    </tr>\n",
       "    <tr>\n",
       "      <th>230</th>\n",
       "      <td>S10</td>\n",
       "      <td>E14</td>\n",
       "      <td>The One with Princess Consuela</td>\n",
       "      <td>2004-02-25 00:00:00</td>\n",
       "      <td>8.4</td>\n",
       "      <td>4.8</td>\n",
       "    </tr>\n",
       "    <tr>\n",
       "      <th>231</th>\n",
       "      <td>S10</td>\n",
       "      <td>E15</td>\n",
       "      <td>The One Where Estelle Dies</td>\n",
       "      <td>2004-04-21 00:00:00</td>\n",
       "      <td>8.4</td>\n",
       "      <td>4.5</td>\n",
       "    </tr>\n",
       "    <tr>\n",
       "      <th>232</th>\n",
       "      <td>S10</td>\n",
       "      <td>E16</td>\n",
       "      <td>The One with Rachel's Going Away Party</td>\n",
       "      <td>2004-04-28 00:00:00</td>\n",
       "      <td>8.8</td>\n",
       "      <td>5.2</td>\n",
       "    </tr>\n",
       "    <tr>\n",
       "      <th>233</th>\n",
       "      <td>S10</td>\n",
       "      <td>E17</td>\n",
       "      <td>The Last One</td>\n",
       "      <td>2004-05-05 00:00:00</td>\n",
       "      <td>9.6</td>\n",
       "      <td>17.0</td>\n",
       "    </tr>\n",
       "  </tbody>\n",
       "</table>\n",
       "<p>234 rows × 6 columns</p>\n",
       "</div>"
      ]
     },
     "execution_count": 16,
     "metadata": {},
     "output_type": "execute_result"
    }
   ],
   "execution_count": 16
  },
  {
   "metadata": {
    "ExecuteTime": {
     "end_time": "2024-07-17T17:53:43.440491Z",
     "start_time": "2024-07-17T17:53:43.431530Z"
    }
   },
   "cell_type": "code",
   "source": [
    "# ranking season by rating\n",
    "query = \"\"\"\n",
    "select season, avg(ratings) avg_note from friends_seasons\n",
    "group by season\n",
    "order by avg_note desc\n",
    "\"\"\"\n",
    "df_rating_rank_season = pd.read_sql(query, conn)\n",
    "df_rating_rank_season"
   ],
   "id": "3d0a2895318b26b1",
   "outputs": [
    {
     "data": {
      "text/plain": [
       "  season  avg_note\n",
       "0    S10  8.482353\n",
       "1     S5  8.479167\n",
       "2     S4  8.320833\n",
       "3     S6  8.316000\n",
       "4     S2  8.283333\n",
       "5     S8  8.283333\n",
       "6     S3  8.252000\n",
       "7     S7  8.245833\n",
       "8     S1  8.137500\n",
       "9     S9  8.108696"
      ],
      "text/html": [
       "<div>\n",
       "<style scoped>\n",
       "    .dataframe tbody tr th:only-of-type {\n",
       "        vertical-align: middle;\n",
       "    }\n",
       "\n",
       "    .dataframe tbody tr th {\n",
       "        vertical-align: top;\n",
       "    }\n",
       "\n",
       "    .dataframe thead th {\n",
       "        text-align: right;\n",
       "    }\n",
       "</style>\n",
       "<table border=\"1\" class=\"dataframe\">\n",
       "  <thead>\n",
       "    <tr style=\"text-align: right;\">\n",
       "      <th></th>\n",
       "      <th>season</th>\n",
       "      <th>avg_note</th>\n",
       "    </tr>\n",
       "  </thead>\n",
       "  <tbody>\n",
       "    <tr>\n",
       "      <th>0</th>\n",
       "      <td>S10</td>\n",
       "      <td>8.482353</td>\n",
       "    </tr>\n",
       "    <tr>\n",
       "      <th>1</th>\n",
       "      <td>S5</td>\n",
       "      <td>8.479167</td>\n",
       "    </tr>\n",
       "    <tr>\n",
       "      <th>2</th>\n",
       "      <td>S4</td>\n",
       "      <td>8.320833</td>\n",
       "    </tr>\n",
       "    <tr>\n",
       "      <th>3</th>\n",
       "      <td>S6</td>\n",
       "      <td>8.316000</td>\n",
       "    </tr>\n",
       "    <tr>\n",
       "      <th>4</th>\n",
       "      <td>S2</td>\n",
       "      <td>8.283333</td>\n",
       "    </tr>\n",
       "    <tr>\n",
       "      <th>5</th>\n",
       "      <td>S8</td>\n",
       "      <td>8.283333</td>\n",
       "    </tr>\n",
       "    <tr>\n",
       "      <th>6</th>\n",
       "      <td>S3</td>\n",
       "      <td>8.252000</td>\n",
       "    </tr>\n",
       "    <tr>\n",
       "      <th>7</th>\n",
       "      <td>S7</td>\n",
       "      <td>8.245833</td>\n",
       "    </tr>\n",
       "    <tr>\n",
       "      <th>8</th>\n",
       "      <td>S1</td>\n",
       "      <td>8.137500</td>\n",
       "    </tr>\n",
       "    <tr>\n",
       "      <th>9</th>\n",
       "      <td>S9</td>\n",
       "      <td>8.108696</td>\n",
       "    </tr>\n",
       "  </tbody>\n",
       "</table>\n",
       "</div>"
      ]
     },
     "execution_count": 17,
     "metadata": {},
     "output_type": "execute_result"
    }
   ],
   "execution_count": 17
  },
  {
   "metadata": {
    "ExecuteTime": {
     "end_time": "2024-07-17T17:53:43.452478Z",
     "start_time": "2024-07-17T17:53:43.440491Z"
    }
   },
   "cell_type": "code",
   "source": [
    "#top 5 episode best rated\n",
    "query = \"\"\"\n",
    "select season, episode, ratings from friends_seasons\n",
    "order by ratings desc\n",
    "limit 5;\n",
    "\"\"\"\n",
    "df_rating_rank_season = pd.read_sql(query, conn)\n",
    "df_rating_rank_season"
   ],
   "id": "8ead80bbc77d953f",
   "outputs": [
    {
     "data": {
      "text/plain": [
       "  season episode  ratings\n",
       "0     S5    E14       9.7\n",
       "1    S10    E17       9.6\n",
       "2     S4    E12       9.4\n",
       "3     S2    E14       9.3\n",
       "4     S6    E25       9.2"
      ],
      "text/html": [
       "<div>\n",
       "<style scoped>\n",
       "    .dataframe tbody tr th:only-of-type {\n",
       "        vertical-align: middle;\n",
       "    }\n",
       "\n",
       "    .dataframe tbody tr th {\n",
       "        vertical-align: top;\n",
       "    }\n",
       "\n",
       "    .dataframe thead th {\n",
       "        text-align: right;\n",
       "    }\n",
       "</style>\n",
       "<table border=\"1\" class=\"dataframe\">\n",
       "  <thead>\n",
       "    <tr style=\"text-align: right;\">\n",
       "      <th></th>\n",
       "      <th>season</th>\n",
       "      <th>episode</th>\n",
       "      <th>ratings</th>\n",
       "    </tr>\n",
       "  </thead>\n",
       "  <tbody>\n",
       "    <tr>\n",
       "      <th>0</th>\n",
       "      <td>S5</td>\n",
       "      <td>E14</td>\n",
       "      <td>9.7</td>\n",
       "    </tr>\n",
       "    <tr>\n",
       "      <th>1</th>\n",
       "      <td>S10</td>\n",
       "      <td>E17</td>\n",
       "      <td>9.6</td>\n",
       "    </tr>\n",
       "    <tr>\n",
       "      <th>2</th>\n",
       "      <td>S4</td>\n",
       "      <td>E12</td>\n",
       "      <td>9.4</td>\n",
       "    </tr>\n",
       "    <tr>\n",
       "      <th>3</th>\n",
       "      <td>S2</td>\n",
       "      <td>E14</td>\n",
       "      <td>9.3</td>\n",
       "    </tr>\n",
       "    <tr>\n",
       "      <th>4</th>\n",
       "      <td>S6</td>\n",
       "      <td>E25</td>\n",
       "      <td>9.2</td>\n",
       "    </tr>\n",
       "  </tbody>\n",
       "</table>\n",
       "</div>"
      ]
     },
     "execution_count": 18,
     "metadata": {},
     "output_type": "execute_result"
    }
   ],
   "execution_count": 18
  },
  {
   "metadata": {},
   "cell_type": "markdown",
   "source": "# Scraping using Selenium (solution number two)",
   "id": "50592fb83f87a2f4"
  },
  {
   "cell_type": "code",
   "id": "94fba4a0",
   "metadata": {
    "id": "94fba4a0",
    "colab": {
     "base_uri": "https://localhost:8080/",
     "height": 949
    },
    "collapsed": true,
    "outputId": "571131e3-7d60-42ce-ae8e-4da03161f9b2",
    "ExecuteTime": {
     "end_time": "2024-07-17T17:53:44.659618Z",
     "start_time": "2024-07-17T17:53:43.452478Z"
    }
   },
   "source": [
    "from selenium import webdriver\n",
    "from selenium.webdriver.common.by import By\n",
    "from selenium.webdriver.firefox.options import Options\n",
    "import time"
   ],
   "outputs": [],
   "execution_count": 19
  },
  {
   "cell_type": "code",
   "id": "769288b3",
   "metadata": {
    "id": "769288b3",
    "ExecuteTime": {
     "end_time": "2024-07-17T17:53:44.671873Z",
     "start_time": "2024-07-17T17:53:44.661818Z"
    }
   },
   "source": [
    "def extract_info_selenium(url: str) -> dict:\n",
    "    # Set up Selenium options\n",
    "    firefox_options = Options()\n",
    "    firefox_options.add_argument(\"--headless\")  # Run headless Firefox\n",
    "    firefox_options.add_argument(\"--no-sandbox\")\n",
    "    firefox_options.add_argument(\"--disable-dev-shm-usage\")\n",
    "    firefox_options.set_preference(\"general.useragent.override\", \n",
    "        \"Mozilla/5.0 (Windows NT 10.0; Win64; x64) AppleWebKit/537.36 (KHTML, like Gecko) Chrome/58.0.3029.110 Safari/537.3\")\n",
    "    \n",
    "    # Set up the WebDriver\n",
    "    driver = webdriver.Firefox(options=firefox_options)\n",
    "    \n",
    "    # Fetch the URL\n",
    "    driver.get(url)\n",
    "    time.sleep(1)  # Allow time for the page to fully load\n",
    "    \n",
    "    results = {}\n",
    "\n",
    "    # Extract episode information\n",
    "    episodes = driver.find_elements(By.CSS_SELECTOR, 'div.sc-ccd6e31b-4.eMYVLm')\n",
    "    for episode in episodes:\n",
    "        try:\n",
    "            infos = episode.find_element(By.CSS_SELECTOR, 'div.ipc-title__text').text\n",
    "            number, title = infos.split('∙')\n",
    "            date = episode.find_element(By.CSS_SELECTOR, 'span.sc-ccd6e31b-10.fVspdm').text\n",
    "            note = episode.find_element(By.CSS_SELECTOR, 'span.ipc-rating-star.ipc-rating-star--base.ipc-rating-star--imdb.ratingGroup--imdb-rating').text\n",
    "            results[number.strip()] = {'title': title.strip(), 'date': date.strip(), 'rating': note.strip()}\n",
    "        except Exception as e:\n",
    "            pass\n",
    "    \n",
    "    driver.quit()\n",
    "    return results"
   ],
   "outputs": [],
   "execution_count": 20
  },
  {
   "metadata": {
    "ExecuteTime": {
     "end_time": "2024-07-17T17:56:31.510054Z",
     "start_time": "2024-07-17T17:53:44.671873Z"
    }
   },
   "cell_type": "code",
   "source": [
    "seeaon_from_selenium = {}\n",
    "\n",
    "for id_season in range(1, 11):\n",
    "    url = f'https://www.imdb.com/title/tt0108778/episodes/?season={id_season}'\n",
    "    seeaon_from_selenium.update(extract_info_selenium(url))"
   ],
   "id": "9d14d416273b145d",
   "outputs": [],
   "execution_count": 21
  },
  {
   "metadata": {
    "ExecuteTime": {
     "end_time": "2024-07-17T17:56:31.524726Z",
     "start_time": "2024-07-17T17:56:31.512872Z"
    }
   },
   "cell_type": "code",
   "source": "pd.DataFrame.from_dict(seeaon_from_selenium,orient='index')",
   "id": "dedbc0227b441307",
   "outputs": [
    {
     "data": {
      "text/plain": [
       "                                                  title               date  \\\n",
       "S1.E1              The One Where Monica Gets a Roommate  Thu, Sep 22, 1994   \n",
       "S1.E2              The One with the Sonogram at the End  Thu, Sep 29, 1994   \n",
       "S1.E3                            The One with the Thumb   Thu, Oct 6, 1994   \n",
       "S1.E4                The One with George Stephanopoulos  Thu, Oct 13, 1994   \n",
       "S1.E5    The One with the East German Laundry Detergent  Thu, Oct 20, 1994   \n",
       "...                                                 ...                ...   \n",
       "S10.E13                The One Where Joey Speaks French  Thu, Feb 19, 2004   \n",
       "S10.E14                  The One with Princess Consuela  Thu, Feb 26, 2004   \n",
       "S10.E15                      The One Where Estelle Dies  Thu, Apr 22, 2004   \n",
       "S10.E16          The One with Rachel's Going Away Party  Thu, Apr 29, 2004   \n",
       "S10.E17                                    The Last One   Thu, May 6, 2004   \n",
       "\n",
       "                    rating  \n",
       "S1.E1     8.1\\n/10\\n (10K)  \n",
       "S1.E2      7.9\\n/10\\n (8K)  \n",
       "S1.E3    8.0\\n/10\\n (7.5K)  \n",
       "S1.E4    7.9\\n/10\\n (7.3K)  \n",
       "S1.E5    8.3\\n/10\\n (7.3K)  \n",
       "...                    ...  \n",
       "S10.E13    8.3\\n/10\\n (5K)  \n",
       "S10.E14  8.4\\n/10\\n (4.8K)  \n",
       "S10.E15  8.4\\n/10\\n (4.5K)  \n",
       "S10.E16  8.8\\n/10\\n (5.2K)  \n",
       "S10.E17   9.6\\n/10\\n (17K)  \n",
       "\n",
       "[234 rows x 3 columns]"
      ],
      "text/html": [
       "<div>\n",
       "<style scoped>\n",
       "    .dataframe tbody tr th:only-of-type {\n",
       "        vertical-align: middle;\n",
       "    }\n",
       "\n",
       "    .dataframe tbody tr th {\n",
       "        vertical-align: top;\n",
       "    }\n",
       "\n",
       "    .dataframe thead th {\n",
       "        text-align: right;\n",
       "    }\n",
       "</style>\n",
       "<table border=\"1\" class=\"dataframe\">\n",
       "  <thead>\n",
       "    <tr style=\"text-align: right;\">\n",
       "      <th></th>\n",
       "      <th>title</th>\n",
       "      <th>date</th>\n",
       "      <th>rating</th>\n",
       "    </tr>\n",
       "  </thead>\n",
       "  <tbody>\n",
       "    <tr>\n",
       "      <th>S1.E1</th>\n",
       "      <td>The One Where Monica Gets a Roommate</td>\n",
       "      <td>Thu, Sep 22, 1994</td>\n",
       "      <td>8.1\\n/10\\n (10K)</td>\n",
       "    </tr>\n",
       "    <tr>\n",
       "      <th>S1.E2</th>\n",
       "      <td>The One with the Sonogram at the End</td>\n",
       "      <td>Thu, Sep 29, 1994</td>\n",
       "      <td>7.9\\n/10\\n (8K)</td>\n",
       "    </tr>\n",
       "    <tr>\n",
       "      <th>S1.E3</th>\n",
       "      <td>The One with the Thumb</td>\n",
       "      <td>Thu, Oct 6, 1994</td>\n",
       "      <td>8.0\\n/10\\n (7.5K)</td>\n",
       "    </tr>\n",
       "    <tr>\n",
       "      <th>S1.E4</th>\n",
       "      <td>The One with George Stephanopoulos</td>\n",
       "      <td>Thu, Oct 13, 1994</td>\n",
       "      <td>7.9\\n/10\\n (7.3K)</td>\n",
       "    </tr>\n",
       "    <tr>\n",
       "      <th>S1.E5</th>\n",
       "      <td>The One with the East German Laundry Detergent</td>\n",
       "      <td>Thu, Oct 20, 1994</td>\n",
       "      <td>8.3\\n/10\\n (7.3K)</td>\n",
       "    </tr>\n",
       "    <tr>\n",
       "      <th>...</th>\n",
       "      <td>...</td>\n",
       "      <td>...</td>\n",
       "      <td>...</td>\n",
       "    </tr>\n",
       "    <tr>\n",
       "      <th>S10.E13</th>\n",
       "      <td>The One Where Joey Speaks French</td>\n",
       "      <td>Thu, Feb 19, 2004</td>\n",
       "      <td>8.3\\n/10\\n (5K)</td>\n",
       "    </tr>\n",
       "    <tr>\n",
       "      <th>S10.E14</th>\n",
       "      <td>The One with Princess Consuela</td>\n",
       "      <td>Thu, Feb 26, 2004</td>\n",
       "      <td>8.4\\n/10\\n (4.8K)</td>\n",
       "    </tr>\n",
       "    <tr>\n",
       "      <th>S10.E15</th>\n",
       "      <td>The One Where Estelle Dies</td>\n",
       "      <td>Thu, Apr 22, 2004</td>\n",
       "      <td>8.4\\n/10\\n (4.5K)</td>\n",
       "    </tr>\n",
       "    <tr>\n",
       "      <th>S10.E16</th>\n",
       "      <td>The One with Rachel's Going Away Party</td>\n",
       "      <td>Thu, Apr 29, 2004</td>\n",
       "      <td>8.8\\n/10\\n (5.2K)</td>\n",
       "    </tr>\n",
       "    <tr>\n",
       "      <th>S10.E17</th>\n",
       "      <td>The Last One</td>\n",
       "      <td>Thu, May 6, 2004</td>\n",
       "      <td>9.6\\n/10\\n (17K)</td>\n",
       "    </tr>\n",
       "  </tbody>\n",
       "</table>\n",
       "<p>234 rows × 3 columns</p>\n",
       "</div>"
      ]
     },
     "execution_count": 22,
     "metadata": {},
     "output_type": "execute_result"
    }
   ],
   "execution_count": 22
  },
  {
   "cell_type": "markdown",
   "id": "a0324831",
   "metadata": {
    "id": "a0324831"
   },
   "source": [
    "## Ressources utiles\n",
    "\n",
    "\n",
    "\n",
    "https://www.crummy.com/software/BeautifulSoup/bs4/doc/\n",
    "\n",
    "https://www.crummy.com/software/BeautifulSoup/bs4/doc/#css-selectors\n",
    "\n",
    "\n"
   ]
  },
  {
   "cell_type": "code",
   "id": "ad6a22f7",
   "metadata": {
    "id": "ad6a22f7",
    "ExecuteTime": {
     "end_time": "2024-07-17T17:56:31.528391Z",
     "start_time": "2024-07-17T17:56:31.524726Z"
    }
   },
   "source": [],
   "outputs": [],
   "execution_count": 22
  }
 ],
 "metadata": {
  "kernelspec": {
   "display_name": "Python 3 (ipykernel)",
   "language": "python",
   "name": "python3"
  },
  "language_info": {
   "codemirror_mode": {
    "name": "ipython",
    "version": 3
   },
   "file_extension": ".py",
   "mimetype": "text/x-python",
   "name": "python",
   "nbconvert_exporter": "python",
   "pygments_lexer": "ipython3",
   "version": "3.9.12"
  },
  "toc": {
   "base_numbering": 1,
   "nav_menu": {},
   "number_sections": true,
   "sideBar": true,
   "skip_h1_title": true,
   "title_cell": "Table of Contents",
   "title_sidebar": "Contents",
   "toc_cell": false,
   "toc_position": {
    "height": "calc(100% - 180px)",
    "left": "10px",
    "top": "150px",
    "width": "165px"
   },
   "toc_section_display": true,
   "toc_window_display": true
  },
  "colab": {
   "provenance": []
  }
 },
 "nbformat": 4,
 "nbformat_minor": 5
}
